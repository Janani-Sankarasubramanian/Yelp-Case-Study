{
 "cells": [
  {
   "cell_type": "markdown",
   "metadata": {},
   "source": [
    "# Case Study 1 : Data Science in Yelp Data"
   ]
  },
  {
   "cell_type": "markdown",
   "metadata": {},
   "source": [
    "**Required Readings:** \n",
    "* [Yelp Open Dataset](https://www.yelp.com/dataset) \n",
    "* Please download the Yelp dataset from the above webpage.\n",
    "\n",
    "**NOTE**\n",
    "* Please don't forget to save the notebook frequently when working in Jupyter Notebook, otherwise the changes you made can be lost.\n",
    "\n",
    "\n",
    "Here is an example of the data format. More details are included [here](https://www.yelp.com/dataset/documentation/main)\n",
    "\n",
    "## Business \n",
    "\n",
    "'business.json' contain information about local businesses.\n",
    "\n",
    "```json\n",
    "{\n",
    "    // string, 22 character unique string business id\n",
    "    \"business_id\": \"tnhfDv5Il8EaGSXZGiuQGg\",\n",
    "\n",
    "    // string, the business's name\n",
    "    \"name\": \"Garaje\",\n",
    "\n",
    "    // string, the full address of the business\n",
    "    \"address\": \"475 3rd St\",\n",
    "\n",
    "    // string, the city\n",
    "    \"city\": \"San Francisco\",\n",
    "\n",
    "    // string, 2 character state code, if applicable\n",
    "    \"state\": \"CA\",\n",
    "\n",
    "    // string, the postal code\n",
    "    \"postal code\": \"94107\",\n",
    "\n",
    "    // float, latitude\n",
    "    \"latitude\": 37.7817529521,\n",
    "\n",
    "    // float, longitude\n",
    "    \"longitude\": -122.39612197,\n",
    "\n",
    "    // float, star rating, rounded to half-stars\n",
    "    \"stars\": 4.5,\n",
    "\n",
    "    // integer, number of reviews\n",
    "    \"review_count\": 1198,\n",
    "\n",
    "    // integer, 0 or 1 for closed or open, respectively\n",
    "    \"is_open\": 1,\n",
    "\n",
    "    // object, business attributes to values. note: some attribute values might be objects\n",
    "    \"attributes\": {\n",
    "        \"RestaurantsTakeOut\": true,\n",
    "        \"BusinessParking\": {\n",
    "            \"garage\": false,\n",
    "            \"street\": true,\n",
    "            \"validated\": false,\n",
    "            \"lot\": false,\n",
    "            \"valet\": false\n",
    "        },\n",
    "    },\n",
    "\n",
    "    // an array of strings of business categories\n",
    "    \"categories\": [\n",
    "        \"Mexican\",\n",
    "        \"Burgers\",\n",
    "        \"Gastropubs\"\n",
    "    ],\n",
    "\n",
    "    // an object of key day to value hours, hours are using a 24hr clock\n",
    "    \"hours\": {\n",
    "        \"Monday\": \"10:00-21:00\",\n",
    "        \"Tuesday\": \"10:00-21:00\",\n",
    "        \"Friday\": \"10:00-21:00\",\n",
    "        \"Wednesday\": \"10:00-21:00\",\n",
    "        \"Thursday\": \"10:00-21:00\",\n",
    "        \"Sunday\": \"11:00-18:00\",\n",
    "        \"Saturday\": \"10:00-21:00\"\n",
    "    }\n",
    "}\n",
    "```\n",
    "## Reviews\n",
    "```json\n",
    "{\n",
    "    // string, 22 character unique review id\n",
    "    \"review_id\": \"zdSx_SD6obEhz9VrW9uAWA\",\n",
    "\n",
    "    // string, 22 character unique user id, maps to the user in user.json\n",
    "    \"user_id\": \"Ha3iJu77CxlrFm-vQRs_8g\",\n",
    "\n",
    "    // string, 22 character business id, maps to business in business.json\n",
    "    \"business_id\": \"tnhfDv5Il8EaGSXZGiuQGg\",\n",
    "\n",
    "    // integer, star rating\n",
    "    \"stars\": 4,\n",
    "\n",
    "    // string, date formatted YYYY-MM-DD\n",
    "    \"date\": \"2016-03-09\",\n",
    "\n",
    "    // string, the review itself\n",
    "    \"text\": \"Great place to hang out after work: the prices are decent, and the ambience is fun. It's a bit loud, but very lively. The staff is friendly, and the food is good. They have a good selection of drinks.\",\n",
    "\n",
    "    // integer, number of useful votes received\n",
    "    \"useful\": 0,\n",
    "\n",
    "    // integer, number of funny votes received\n",
    "    \"funny\": 0,\n",
    "\n",
    "    // integer, number of cool votes received\n",
    "    \"cool\": 0\n",
    "}\n",
    "```"
   ]
  },
  {
   "cell_type": "markdown",
   "metadata": {},
   "source": [
    "# Problem: pick a data science problem that you plan to solve using Yelp Data\n",
    "* The problem should be important and interesting, which has a potential impact in some area.\n",
    "* The problem should be solvable using yelp data and data science solutions.\n",
    "\n",
    "Please briefly describe in the following cell: what problem are you trying to solve? why this problem is important and interesting?"
   ]
  },
  {
   "cell_type": "markdown",
   "metadata": {
    "collapsed": true
   },
   "source": [
    "The problem we are trying to solve is to compare the low rated restaurants with the high rated restaurants. We will be analyzing the factors that contribute for the increase in the average rating of the restaurants. Thereby, through our casestudy, we will be helping the low rated restaurants and providing them with some suggestions to improve their ratings.\n"
   ]
  },
  {
   "cell_type": "markdown",
   "metadata": {},
   "source": [
    "# Data Collection/Processing: "
   ]
  },
  {
   "cell_type": "code",
   "execution_count": 2,
   "metadata": {},
   "outputs": [],
   "source": [
    "import pandas as pd\n",
    "import json\n",
    "from pandas.io.json import json_normalize\n",
    "import matplotlib.pyplot as plt\n",
    "import seaborn as sns\n",
    "import numpy as np\n",
    "\n",
    "pd.set_option('display.max_colwidth', -1)"
   ]
  },
  {
   "cell_type": "code",
   "execution_count": 3,
   "metadata": {},
   "outputs": [],
   "source": [
    "business_df = []\n",
    "# reading business file\n",
    "business_df = pd.read_json('yelp_academic_dataset_business.json', lines=True)"
   ]
  },
  {
   "cell_type": "code",
   "execution_count": 4,
   "metadata": {},
   "outputs": [],
   "source": [
    "checkins_df = []\n",
    "# reading checkin file      \n",
    "checkins_df = pd.read_json('yelp_academic_dataset_checkin.json', lines=True)"
   ]
  },
  {
   "cell_type": "code",
   "execution_count": 5,
   "metadata": {},
   "outputs": [],
   "source": [
    "# removing missing values\n",
    "business_df = business_df[business_df['categories'].notna()]\n",
    "# selecting only restaurants\n",
    "restaurants = business_df[business_df['categories'].str.contains('Restaurants')]"
   ]
  },
  {
   "cell_type": "code",
   "execution_count": 6,
   "metadata": {},
   "outputs": [],
   "source": [
    "restaurants=restaurants.reset_index(drop=True)"
   ]
  },
  {
   "cell_type": "code",
   "execution_count": 7,
   "metadata": {},
   "outputs": [
    {
     "data": {
      "text/html": [
       "<div>\n",
       "<style scoped>\n",
       "    .dataframe tbody tr th:only-of-type {\n",
       "        vertical-align: middle;\n",
       "    }\n",
       "\n",
       "    .dataframe tbody tr th {\n",
       "        vertical-align: top;\n",
       "    }\n",
       "\n",
       "    .dataframe thead th {\n",
       "        text-align: right;\n",
       "    }\n",
       "</style>\n",
       "<table border=\"1\" class=\"dataframe\">\n",
       "  <thead>\n",
       "    <tr style=\"text-align: right;\">\n",
       "      <th></th>\n",
       "      <th>address</th>\n",
       "      <th>attributes</th>\n",
       "      <th>business_id</th>\n",
       "      <th>categories</th>\n",
       "      <th>city</th>\n",
       "      <th>hours</th>\n",
       "      <th>is_open</th>\n",
       "      <th>latitude</th>\n",
       "      <th>longitude</th>\n",
       "      <th>name</th>\n",
       "      <th>postal_code</th>\n",
       "      <th>review_count</th>\n",
       "      <th>stars</th>\n",
       "      <th>state</th>\n",
       "    </tr>\n",
       "  </thead>\n",
       "  <tbody>\n",
       "    <tr>\n",
       "      <th>0</th>\n",
       "      <td>404 E Green St</td>\n",
       "      <td>{'RestaurantsAttire': 'u'casual'', 'RestaurantsTakeOut': 'True', 'BusinessAcceptsCreditCards': 'True', 'NoiseLevel': 'u'quiet'', 'GoodForKids': 'False', 'RestaurantsReservations': 'False', 'RestaurantsGoodForGroups': 'False', 'BusinessParking': 'None', 'RestaurantsPriceRange2': '1', 'HasTV': 'True', 'Alcohol': ''none'', 'BikeParking': 'False', 'RestaurantsDelivery': 'True', 'ByAppointmentOnly': 'False', 'OutdoorSeating': 'False'}</td>\n",
       "      <td>pQeaRpvuhoEqudo3uymHIQ</td>\n",
       "      <td>Ethnic Food, Food Trucks, Specialty Food, Imported Food, Argentine, Food, Restaurants, Empanadas</td>\n",
       "      <td>Champaign</td>\n",
       "      <td>{'Monday': '11:30-14:30', 'Tuesday': '11:30-14:30', 'Wednesday': '11:30-14:30', 'Thursday': '11:30-14:30', 'Friday': '11:30-14:30'}</td>\n",
       "      <td>1</td>\n",
       "      <td>40.110446</td>\n",
       "      <td>-88.233073</td>\n",
       "      <td>The Empanadas House</td>\n",
       "      <td>61820</td>\n",
       "      <td>5</td>\n",
       "      <td>4.5</td>\n",
       "      <td>IL</td>\n",
       "    </tr>\n",
       "    <tr>\n",
       "      <th>1</th>\n",
       "      <td>4508 E Independence Blvd</td>\n",
       "      <td>{'RestaurantsGoodForGroups': 'True', 'OutdoorSeating': 'False', 'BusinessAcceptsCreditCards': 'True', 'RestaurantsTakeOut': 'True', 'GoodForKids': 'True', 'BusinessParking': '{'garage': False, 'street': False, 'validated': False, 'lot': False, 'valet': False}', 'RestaurantsPriceRange2': '1', 'RestaurantsReservations': 'False', 'RestaurantsAttire': 'u'casual''}</td>\n",
       "      <td>CsLQLiRoafpJPJSkNX2h5Q</td>\n",
       "      <td>Food, Restaurants, Grocery, Middle Eastern</td>\n",
       "      <td>Charlotte</td>\n",
       "      <td>None</td>\n",
       "      <td>0</td>\n",
       "      <td>35.194894</td>\n",
       "      <td>-80.767442</td>\n",
       "      <td>Middle East Deli</td>\n",
       "      <td>28205</td>\n",
       "      <td>5</td>\n",
       "      <td>3.0</td>\n",
       "      <td>NC</td>\n",
       "    </tr>\n",
       "    <tr>\n",
       "      <th>2</th>\n",
       "      <td>15480 Bayview Avenue, unit D0110</td>\n",
       "      <td>{'RestaurantsTableService': 'False', 'RestaurantsDelivery': 'True', 'OutdoorSeating': 'False', 'DogsAllowed': 'False', 'RestaurantsTakeOut': 'True', 'RestaurantsReservations': 'False', 'BusinessParking': '{'garage': False, 'street': False, 'validated': False, 'lot': True, 'valet': False}', 'HasTV': 'True', 'Alcohol': 'u'none'', 'WiFi': 'u'no'', 'BikeParking': 'True', 'Caters': 'True'}</td>\n",
       "      <td>eBEfgOPG7pvFhb2wcG9I7w</td>\n",
       "      <td>Restaurants, Cheesesteaks, Poutineries</td>\n",
       "      <td>Aurora</td>\n",
       "      <td>{'Monday': '11:0-22:0', 'Tuesday': '11:0-22:0', 'Wednesday': '11:0-22:0', 'Thursday': '11:0-22:0', 'Friday': '11:0-22:0', 'Saturday': '11:0-22:0', 'Sunday': '11:0-21:0'}</td>\n",
       "      <td>1</td>\n",
       "      <td>44.010962</td>\n",
       "      <td>-79.448677</td>\n",
       "      <td>Philthy Phillys</td>\n",
       "      <td>L4G 7J1</td>\n",
       "      <td>4</td>\n",
       "      <td>4.5</td>\n",
       "      <td>ON</td>\n",
       "    </tr>\n",
       "    <tr>\n",
       "      <th>3</th>\n",
       "      <td>300 John Street</td>\n",
       "      <td>{'GoodForKids': 'True', 'RestaurantsTakeOut': 'True', 'Alcohol': 'u'none'', 'RestaurantsReservations': 'False', 'RestaurantsGoodForGroups': 'False', 'RestaurantsDelivery': 'True'}</td>\n",
       "      <td>lu7vtrp_bE9PnxWfA8g4Pg</td>\n",
       "      <td>Japanese, Fast Food, Food Court, Restaurants</td>\n",
       "      <td>Thornhill</td>\n",
       "      <td>None</td>\n",
       "      <td>1</td>\n",
       "      <td>43.820492</td>\n",
       "      <td>-79.398466</td>\n",
       "      <td>Banzai Sushi</td>\n",
       "      <td>L3T 5W4</td>\n",
       "      <td>7</td>\n",
       "      <td>4.5</td>\n",
       "      <td>ON</td>\n",
       "    </tr>\n",
       "    <tr>\n",
       "      <th>4</th>\n",
       "      <td>13071 Yonge Street</td>\n",
       "      <td>{'Ambience': '{'touristy': False, 'hipster': False, 'romantic': False, 'intimate': False, 'trendy': False, 'upscale': False, 'classy': False, 'casual': False}', 'DogsAllowed': 'False', 'Caters': 'True', 'BusinessParking': '{'garage': False, 'street': True, 'validated': False, 'lot': False, 'valet': False}', 'RestaurantsTableService': 'True', 'Alcohol': 'u'full_bar'', 'HasTV': 'True', 'GoodForMeal': '{'dessert': False, 'latenight': False, 'lunch': False, 'dinner': False, 'brunch': False, 'breakfast': False}', 'RestaurantsDelivery': 'True', 'WiFi': 'u'free'', 'HappyHour': 'False', 'OutdoorSeating': 'True', 'WheelchairAccessible': 'True', 'RestaurantsTakeOut': 'True', 'RestaurantsReservations': 'True'}</td>\n",
       "      <td>9sRGfSVEfLhN_km60YruTA</td>\n",
       "      <td>Persian/Iranian, Turkish, Middle Eastern, Restaurants, Kebab</td>\n",
       "      <td>Richmond Hill</td>\n",
       "      <td>{'Tuesday': '12:0-21:0', 'Wednesday': '12:0-21:0', 'Thursday': '12:0-21:0', 'Friday': '12:0-0:0', 'Saturday': '12:0-0:0', 'Sunday': '11:0-21:0'}</td>\n",
       "      <td>1</td>\n",
       "      <td>43.947011</td>\n",
       "      <td>-79.454862</td>\n",
       "      <td>Apadana Restaurant</td>\n",
       "      <td>L4E 1A5</td>\n",
       "      <td>3</td>\n",
       "      <td>3.0</td>\n",
       "      <td>ON</td>\n",
       "    </tr>\n",
       "  </tbody>\n",
       "</table>\n",
       "</div>"
      ],
      "text/plain": [
       "                            address  \\\n",
       "0  404 E Green St                     \n",
       "1  4508 E Independence Blvd           \n",
       "2  15480 Bayview Avenue, unit D0110   \n",
       "3  300 John Street                    \n",
       "4  13071 Yonge Street                 \n",
       "\n",
       "                                                                                                                                                                                                                                                                                                                                                                                                                                                                                                                                                                                                                                                                                                                             attributes  \\\n",
       "0  {'RestaurantsAttire': 'u'casual'', 'RestaurantsTakeOut': 'True', 'BusinessAcceptsCreditCards': 'True', 'NoiseLevel': 'u'quiet'', 'GoodForKids': 'False', 'RestaurantsReservations': 'False', 'RestaurantsGoodForGroups': 'False', 'BusinessParking': 'None', 'RestaurantsPriceRange2': '1', 'HasTV': 'True', 'Alcohol': ''none'', 'BikeParking': 'False', 'RestaurantsDelivery': 'True', 'ByAppointmentOnly': 'False', 'OutdoorSeating': 'False'}                                                                                                                                                                                                                                                                                      \n",
       "1  {'RestaurantsGoodForGroups': 'True', 'OutdoorSeating': 'False', 'BusinessAcceptsCreditCards': 'True', 'RestaurantsTakeOut': 'True', 'GoodForKids': 'True', 'BusinessParking': '{'garage': False, 'street': False, 'validated': False, 'lot': False, 'valet': False}', 'RestaurantsPriceRange2': '1', 'RestaurantsReservations': 'False', 'RestaurantsAttire': 'u'casual''}                                                                                                                                                                                                                                                                                                                                                             \n",
       "2  {'RestaurantsTableService': 'False', 'RestaurantsDelivery': 'True', 'OutdoorSeating': 'False', 'DogsAllowed': 'False', 'RestaurantsTakeOut': 'True', 'RestaurantsReservations': 'False', 'BusinessParking': '{'garage': False, 'street': False, 'validated': False, 'lot': True, 'valet': False}', 'HasTV': 'True', 'Alcohol': 'u'none'', 'WiFi': 'u'no'', 'BikeParking': 'True', 'Caters': 'True'}                                                                                                                                                                                                                                                                                                                                    \n",
       "3  {'GoodForKids': 'True', 'RestaurantsTakeOut': 'True', 'Alcohol': 'u'none'', 'RestaurantsReservations': 'False', 'RestaurantsGoodForGroups': 'False', 'RestaurantsDelivery': 'True'}                                                                                                                                                                                                                                                                                                                                                                                                                                                                                                                                                    \n",
       "4  {'Ambience': '{'touristy': False, 'hipster': False, 'romantic': False, 'intimate': False, 'trendy': False, 'upscale': False, 'classy': False, 'casual': False}', 'DogsAllowed': 'False', 'Caters': 'True', 'BusinessParking': '{'garage': False, 'street': True, 'validated': False, 'lot': False, 'valet': False}', 'RestaurantsTableService': 'True', 'Alcohol': 'u'full_bar'', 'HasTV': 'True', 'GoodForMeal': '{'dessert': False, 'latenight': False, 'lunch': False, 'dinner': False, 'brunch': False, 'breakfast': False}', 'RestaurantsDelivery': 'True', 'WiFi': 'u'free'', 'HappyHour': 'False', 'OutdoorSeating': 'True', 'WheelchairAccessible': 'True', 'RestaurantsTakeOut': 'True', 'RestaurantsReservations': 'True'}   \n",
       "\n",
       "              business_id  \\\n",
       "0  pQeaRpvuhoEqudo3uymHIQ   \n",
       "1  CsLQLiRoafpJPJSkNX2h5Q   \n",
       "2  eBEfgOPG7pvFhb2wcG9I7w   \n",
       "3  lu7vtrp_bE9PnxWfA8g4Pg   \n",
       "4  9sRGfSVEfLhN_km60YruTA   \n",
       "\n",
       "                                                                                         categories  \\\n",
       "0  Ethnic Food, Food Trucks, Specialty Food, Imported Food, Argentine, Food, Restaurants, Empanadas   \n",
       "1  Food, Restaurants, Grocery, Middle Eastern                                                         \n",
       "2  Restaurants, Cheesesteaks, Poutineries                                                             \n",
       "3  Japanese, Fast Food, Food Court, Restaurants                                                       \n",
       "4  Persian/Iranian, Turkish, Middle Eastern, Restaurants, Kebab                                       \n",
       "\n",
       "            city  \\\n",
       "0  Champaign       \n",
       "1  Charlotte       \n",
       "2  Aurora          \n",
       "3  Thornhill       \n",
       "4  Richmond Hill   \n",
       "\n",
       "                                                                                                                                                                       hours  \\\n",
       "0  {'Monday': '11:30-14:30', 'Tuesday': '11:30-14:30', 'Wednesday': '11:30-14:30', 'Thursday': '11:30-14:30', 'Friday': '11:30-14:30'}                                         \n",
       "1  None                                                                                                                                                                        \n",
       "2  {'Monday': '11:0-22:0', 'Tuesday': '11:0-22:0', 'Wednesday': '11:0-22:0', 'Thursday': '11:0-22:0', 'Friday': '11:0-22:0', 'Saturday': '11:0-22:0', 'Sunday': '11:0-21:0'}   \n",
       "3  None                                                                                                                                                                        \n",
       "4  {'Tuesday': '12:0-21:0', 'Wednesday': '12:0-21:0', 'Thursday': '12:0-21:0', 'Friday': '12:0-0:0', 'Saturday': '12:0-0:0', 'Sunday': '11:0-21:0'}                            \n",
       "\n",
       "   is_open   latitude  longitude                 name postal_code  \\\n",
       "0  1        40.110446 -88.233073  The Empanadas House  61820        \n",
       "1  0        35.194894 -80.767442  Middle East Deli     28205        \n",
       "2  1        44.010962 -79.448677  Philthy Phillys      L4G 7J1      \n",
       "3  1        43.820492 -79.398466  Banzai Sushi         L3T 5W4      \n",
       "4  1        43.947011 -79.454862  Apadana Restaurant   L4E 1A5      \n",
       "\n",
       "   review_count  stars state  \n",
       "0  5             4.5    IL    \n",
       "1  5             3.0    NC    \n",
       "2  4             4.5    ON    \n",
       "3  7             4.5    ON    \n",
       "4  3             3.0    ON    "
      ]
     },
     "execution_count": 7,
     "metadata": {},
     "output_type": "execute_result"
    }
   ],
   "source": [
    "restaurants.head()"
   ]
  },
  {
   "cell_type": "markdown",
   "metadata": {},
   "source": [
    "### Analyzing Toronto Restaurant Data"
   ]
  },
  {
   "cell_type": "code",
   "execution_count": 8,
   "metadata": {},
   "outputs": [
    {
     "name": "stdout",
     "output_type": "stream",
     "text": [
      "(8679, 14)\n",
      "Index(['address', 'attributes', 'business_id', 'categories', 'city', 'hours',\n",
      "       'is_open', 'latitude', 'longitude', 'name', 'postal_code',\n",
      "       'review_count', 'stars', 'state'],\n",
      "      dtype='object')\n"
     ]
    }
   ],
   "source": [
    "# selecting Toronto Restaurants for Analysis\n",
    "tor_restaurants = restaurants[restaurants['city'] == 'Toronto']\n",
    "print(tor_restaurants.shape)\n",
    "print(tor_restaurants.columns)"
   ]
  },
  {
   "cell_type": "code",
   "execution_count": 9,
   "metadata": {},
   "outputs": [],
   "source": [
    "# dropping irrelevant columns\n",
    "tor_restaurants = tor_restaurants.drop(['address', 'city', 'hours', 'latitude', 'longitude','postal_code','state'], axis=1)"
   ]
  },
  {
   "cell_type": "code",
   "execution_count": 10,
   "metadata": {},
   "outputs": [
    {
     "data": {
      "text/html": [
       "<div>\n",
       "<style scoped>\n",
       "    .dataframe tbody tr th:only-of-type {\n",
       "        vertical-align: middle;\n",
       "    }\n",
       "\n",
       "    .dataframe tbody tr th {\n",
       "        vertical-align: top;\n",
       "    }\n",
       "\n",
       "    .dataframe thead th {\n",
       "        text-align: right;\n",
       "    }\n",
       "</style>\n",
       "<table border=\"1\" class=\"dataframe\">\n",
       "  <thead>\n",
       "    <tr style=\"text-align: right;\">\n",
       "      <th></th>\n",
       "      <th>attributes</th>\n",
       "      <th>business_id</th>\n",
       "      <th>categories</th>\n",
       "      <th>is_open</th>\n",
       "      <th>name</th>\n",
       "      <th>review_count</th>\n",
       "      <th>stars</th>\n",
       "    </tr>\n",
       "  </thead>\n",
       "  <tbody>\n",
       "    <tr>\n",
       "      <th>0</th>\n",
       "      <td>{'RestaurantsPriceRange2': '2', 'RestaurantsAttire': 'u'casual'', 'Alcohol': 'u'none'', 'Caters': 'False', 'HasTV': 'False', 'GoodForKids': 'True', 'RestaurantsGoodForGroups': 'True', 'RestaurantsTakeOut': 'True', 'RestaurantsDelivery': 'False', 'RestaurantsReservations': 'False', 'BusinessParking': '{'garage': False, 'street': False, 'validated': False, 'lot': True, 'valet': False}', 'NoiseLevel': 'u'average'', 'WiFi': ''no'', 'Ambience': '{'romantic': False, 'intimate': False, 'classy': False, 'hipster': False, 'divey': False, 'touristy': False, 'trendy': False, 'upscale': False, 'casual': True}', 'OutdoorSeating': 'False'}</td>\n",
       "      <td>rVBPQdeayMYht4Uv_FOLHg</td>\n",
       "      <td>Restaurants, Burgers, Food</td>\n",
       "      <td>0</td>\n",
       "      <td>Gourmet Burger Company</td>\n",
       "      <td>13</td>\n",
       "      <td>3.0</td>\n",
       "    </tr>\n",
       "    <tr>\n",
       "      <th>1</th>\n",
       "      <td>{'RestaurantsTakeOut': 'True', 'Alcohol': 'u'beer_and_wine'', 'GoodForKids': 'True', 'RestaurantsPriceRange2': '1', 'RestaurantsAttire': 'u'casual'', 'RestaurantsDelivery': 'False', 'Ambience': '{'romantic': False, 'intimate': False, 'classy': False, 'hipster': False, 'divey': False, 'touristy': False, 'trendy': False, 'upscale': False, 'casual': True}', 'BusinessParking': '{'garage': False, 'street': True, 'validated': False, 'lot': False, 'valet': False}', 'RestaurantsGoodForGroups': 'True', 'RestaurantsReservations': 'False', 'OutdoorSeating': 'False', 'NoiseLevel': 'u'average'', 'GoodForMeal': '{'dessert': False, 'latenight': False, 'lunch': True, 'dinner': True, 'brunch': False, 'breakfast': False}', 'WiFi': 'u'no'', 'BikeParking': 'True', 'RestaurantsTableService': 'True', 'HasTV': 'True', 'Caters': 'False'}</td>\n",
       "      <td>0QjROMVW9ACKjhSEfHqNCQ</td>\n",
       "      <td>Vietnamese, Restaurants</td>\n",
       "      <td>1</td>\n",
       "      <td>Mi Mi Restaurant</td>\n",
       "      <td>116</td>\n",
       "      <td>4.0</td>\n",
       "    </tr>\n",
       "    <tr>\n",
       "      <th>2</th>\n",
       "      <td>{'OutdoorSeating': 'False', 'RestaurantsDelivery': 'False', 'RestaurantsTakeOut': 'True', 'HasTV': 'True', 'GoodForKids': 'True', 'RestaurantsGoodForGroups': 'True', 'RestaurantsAttire': ''casual'', 'RestaurantsReservations': 'False', 'BikeParking': 'False', 'Ambience': '{'touristy': False, 'hipster': False, 'romantic': False, 'intimate': False, 'trendy': False, 'upscale': False, 'classy': False, 'casual': False}', 'RestaurantsPriceRange2': '1', 'WiFi': ''no'', 'Alcohol': ''none'', 'BusinessParking': '{'garage': False, 'street': False, 'validated': False, 'lot': False, 'valet': False}'}</td>\n",
       "      <td>8k62wYhDVq1-652YbJi5eg</td>\n",
       "      <td>Bagels, Donuts, Food, Cafes, Coffee &amp; Tea, Restaurants, Bakeries</td>\n",
       "      <td>1</td>\n",
       "      <td>Tim Hortons</td>\n",
       "      <td>8</td>\n",
       "      <td>3.0</td>\n",
       "    </tr>\n",
       "    <tr>\n",
       "      <th>3</th>\n",
       "      <td>{'NoiseLevel': ''loud'', 'BusinessParking': '{'garage': False, 'street': False, 'validated': False, 'lot': False, 'valet': False}', 'Ambience': '{'touristy': False, 'hipster': False, 'romantic': False, 'intimate': False, 'trendy': False, 'upscale': False, 'classy': False, 'casual': False}', 'GoodForMeal': '{'dessert': False, 'latenight': False, 'lunch': False, 'dinner': False, 'brunch': False, 'breakfast': False}', 'RestaurantsTableService': 'False', 'RestaurantsTakeOut': 'True', 'BikeParking': 'True', 'Alcohol': ''none'', 'DriveThru': 'False', 'Caters': 'True', 'GoodForKids': 'True', 'RestaurantsAttire': 'u'casual'', 'RestaurantsPriceRange2': '2', 'RestaurantsGoodForGroups': 'True', 'RestaurantsDelivery': 'True', 'WiFi': ''no'', 'RestaurantsReservations': 'False', 'OutdoorSeating': 'True', 'HasTV': 'True'}</td>\n",
       "      <td>0DnQh8SE8BSnvJltGCCiWg</td>\n",
       "      <td>Fast Food, Restaurants, Chicken Shop</td>\n",
       "      <td>1</td>\n",
       "      <td>Chick-N-Joy</td>\n",
       "      <td>11</td>\n",
       "      <td>3.0</td>\n",
       "    </tr>\n",
       "    <tr>\n",
       "      <th>4</th>\n",
       "      <td>{'DogsAllowed': 'False', 'OutdoorSeating': 'True', 'RestaurantsTakeOut': 'True', 'BusinessParking': '{'garage': False, 'street': False, 'validated': False, 'lot': False, 'valet': False}', 'BikeParking': 'True', 'WheelchairAccessible': 'True', 'RestaurantsPriceRange2': '1', 'Caters': 'False', 'WiFi': 'u'free''}</td>\n",
       "      <td>NLaK58WvlNQdUunSIkt-jA</td>\n",
       "      <td>Coffee &amp; Tea, Restaurants, Sandwiches, Food</td>\n",
       "      <td>1</td>\n",
       "      <td>Zav Coffee Shop &amp; Gallery</td>\n",
       "      <td>24</td>\n",
       "      <td>4.5</td>\n",
       "    </tr>\n",
       "  </tbody>\n",
       "</table>\n",
       "</div>"
      ],
      "text/plain": [
       "                                                                                                                                                                                                                                                                                                                                                                                                                                                                                                                                                                                                                                                                                                                                                                                                                                                  attributes  \\\n",
       "0  {'RestaurantsPriceRange2': '2', 'RestaurantsAttire': 'u'casual'', 'Alcohol': 'u'none'', 'Caters': 'False', 'HasTV': 'False', 'GoodForKids': 'True', 'RestaurantsGoodForGroups': 'True', 'RestaurantsTakeOut': 'True', 'RestaurantsDelivery': 'False', 'RestaurantsReservations': 'False', 'BusinessParking': '{'garage': False, 'street': False, 'validated': False, 'lot': True, 'valet': False}', 'NoiseLevel': 'u'average'', 'WiFi': ''no'', 'Ambience': '{'romantic': False, 'intimate': False, 'classy': False, 'hipster': False, 'divey': False, 'touristy': False, 'trendy': False, 'upscale': False, 'casual': True}', 'OutdoorSeating': 'False'}                                                                                                                                                                                                   \n",
       "1  {'RestaurantsTakeOut': 'True', 'Alcohol': 'u'beer_and_wine'', 'GoodForKids': 'True', 'RestaurantsPriceRange2': '1', 'RestaurantsAttire': 'u'casual'', 'RestaurantsDelivery': 'False', 'Ambience': '{'romantic': False, 'intimate': False, 'classy': False, 'hipster': False, 'divey': False, 'touristy': False, 'trendy': False, 'upscale': False, 'casual': True}', 'BusinessParking': '{'garage': False, 'street': True, 'validated': False, 'lot': False, 'valet': False}', 'RestaurantsGoodForGroups': 'True', 'RestaurantsReservations': 'False', 'OutdoorSeating': 'False', 'NoiseLevel': 'u'average'', 'GoodForMeal': '{'dessert': False, 'latenight': False, 'lunch': True, 'dinner': True, 'brunch': False, 'breakfast': False}', 'WiFi': 'u'no'', 'BikeParking': 'True', 'RestaurantsTableService': 'True', 'HasTV': 'True', 'Caters': 'False'}   \n",
       "2  {'OutdoorSeating': 'False', 'RestaurantsDelivery': 'False', 'RestaurantsTakeOut': 'True', 'HasTV': 'True', 'GoodForKids': 'True', 'RestaurantsGoodForGroups': 'True', 'RestaurantsAttire': ''casual'', 'RestaurantsReservations': 'False', 'BikeParking': 'False', 'Ambience': '{'touristy': False, 'hipster': False, 'romantic': False, 'intimate': False, 'trendy': False, 'upscale': False, 'classy': False, 'casual': False}', 'RestaurantsPriceRange2': '1', 'WiFi': ''no'', 'Alcohol': ''none'', 'BusinessParking': '{'garage': False, 'street': False, 'validated': False, 'lot': False, 'valet': False}'}                                                                                                                                                                                                                                           \n",
       "3  {'NoiseLevel': ''loud'', 'BusinessParking': '{'garage': False, 'street': False, 'validated': False, 'lot': False, 'valet': False}', 'Ambience': '{'touristy': False, 'hipster': False, 'romantic': False, 'intimate': False, 'trendy': False, 'upscale': False, 'classy': False, 'casual': False}', 'GoodForMeal': '{'dessert': False, 'latenight': False, 'lunch': False, 'dinner': False, 'brunch': False, 'breakfast': False}', 'RestaurantsTableService': 'False', 'RestaurantsTakeOut': 'True', 'BikeParking': 'True', 'Alcohol': ''none'', 'DriveThru': 'False', 'Caters': 'True', 'GoodForKids': 'True', 'RestaurantsAttire': 'u'casual'', 'RestaurantsPriceRange2': '2', 'RestaurantsGoodForGroups': 'True', 'RestaurantsDelivery': 'True', 'WiFi': ''no'', 'RestaurantsReservations': 'False', 'OutdoorSeating': 'True', 'HasTV': 'True'}          \n",
       "4  {'DogsAllowed': 'False', 'OutdoorSeating': 'True', 'RestaurantsTakeOut': 'True', 'BusinessParking': '{'garage': False, 'street': False, 'validated': False, 'lot': False, 'valet': False}', 'BikeParking': 'True', 'WheelchairAccessible': 'True', 'RestaurantsPriceRange2': '1', 'Caters': 'False', 'WiFi': 'u'free''}                                                                                                                                                                                                                                                                                                                                                                                                                                                                                                                                     \n",
       "\n",
       "              business_id  \\\n",
       "0  rVBPQdeayMYht4Uv_FOLHg   \n",
       "1  0QjROMVW9ACKjhSEfHqNCQ   \n",
       "2  8k62wYhDVq1-652YbJi5eg   \n",
       "3  0DnQh8SE8BSnvJltGCCiWg   \n",
       "4  NLaK58WvlNQdUunSIkt-jA   \n",
       "\n",
       "                                                         categories  is_open  \\\n",
       "0  Restaurants, Burgers, Food                                        0         \n",
       "1  Vietnamese, Restaurants                                           1         \n",
       "2  Bagels, Donuts, Food, Cafes, Coffee & Tea, Restaurants, Bakeries  1         \n",
       "3  Fast Food, Restaurants, Chicken Shop                              1         \n",
       "4  Coffee & Tea, Restaurants, Sandwiches, Food                       1         \n",
       "\n",
       "                        name  review_count  stars  \n",
       "0  Gourmet Burger Company     13            3.0    \n",
       "1  Mi Mi Restaurant           116           4.0    \n",
       "2  Tim Hortons                8             3.0    \n",
       "3  Chick-N-Joy                11            3.0    \n",
       "4  Zav Coffee Shop & Gallery  24            4.5    "
      ]
     },
     "execution_count": 10,
     "metadata": {},
     "output_type": "execute_result"
    }
   ],
   "source": [
    "# looking at data\n",
    "tor_restaurants = tor_restaurants.reset_index(drop=True)\n",
    "tor_restaurants.head()"
   ]
  },
  {
   "cell_type": "markdown",
   "metadata": {},
   "source": [
    "Different restaurants have different attributes. Also, some of them have null attributes."
   ]
  },
  {
   "cell_type": "code",
   "execution_count": 11,
   "metadata": {},
   "outputs": [
    {
     "name": "stdout",
     "output_type": "stream",
     "text": [
      "<class 'pandas.core.frame.DataFrame'>\n",
      "RangeIndex: 8679 entries, 0 to 8678\n",
      "Data columns (total 7 columns):\n",
      "attributes      8392 non-null object\n",
      "business_id     8679 non-null object\n",
      "categories      8679 non-null object\n",
      "is_open         8679 non-null int64\n",
      "name            8679 non-null object\n",
      "review_count    8679 non-null int64\n",
      "stars           8679 non-null float64\n",
      "dtypes: float64(1), int64(2), object(4)\n",
      "memory usage: 474.7+ KB\n"
     ]
    }
   ],
   "source": [
    "tor_restaurants.info()"
   ]
  },
  {
   "cell_type": "code",
   "execution_count": 12,
   "metadata": {},
   "outputs": [],
   "source": [
    "# marking none for empty\n",
    "tor_restaurants['attributes'] = tor_restaurants['attributes'].apply(lambda x: {} if x is None else x)\n",
    "# creating dataframe from attributes\n",
    "attributes_df = json_normalize(tor_restaurants.attributes)"
   ]
  },
  {
   "cell_type": "markdown",
   "metadata": {},
   "source": [
    "Checking which attributes are commonly present for Toronto Restaurants"
   ]
  },
  {
   "cell_type": "code",
   "execution_count": 13,
   "metadata": {},
   "outputs": [
    {
     "name": "stdout",
     "output_type": "stream",
     "text": [
      "<class 'pandas.core.frame.DataFrame'>\n",
      "RangeIndex: 8679 entries, 0 to 8678\n",
      "Data columns (total 37 columns):\n",
      "AcceptsInsurance              2 non-null object\n",
      "AgesAllowed                   2 non-null object\n",
      "Alcohol                       6142 non-null object\n",
      "Ambience                      6813 non-null object\n",
      "BYOB                          81 non-null object\n",
      "BestNights                    446 non-null object\n",
      "BikeParking                   5294 non-null object\n",
      "BusinessAcceptsBitcoin        2 non-null object\n",
      "BusinessAcceptsCreditCards    272 non-null object\n",
      "BusinessParking               7049 non-null object\n",
      "ByAppointmentOnly             283 non-null object\n",
      "Caters                        4697 non-null object\n",
      "CoatCheck                     379 non-null object\n",
      "Corkage                       56 non-null object\n",
      "DietaryRestrictions           12 non-null object\n",
      "DogsAllowed                   1103 non-null object\n",
      "DriveThru                     304 non-null object\n",
      "GoodForDancing                456 non-null object\n",
      "GoodForKids                   6730 non-null object\n",
      "GoodForMeal                   4522 non-null object\n",
      "HairSpecializesIn             2 non-null object\n",
      "HappyHour                     1070 non-null object\n",
      "HasTV                         6617 non-null object\n",
      "Music                         672 non-null object\n",
      "NoiseLevel                    5687 non-null object\n",
      "OutdoorSeating                6834 non-null object\n",
      "RestaurantsAttire             6388 non-null object\n",
      "RestaurantsCounterService     1 non-null object\n",
      "RestaurantsDelivery           6753 non-null object\n",
      "RestaurantsGoodForGroups      6863 non-null object\n",
      "RestaurantsPriceRange2        7002 non-null object\n",
      "RestaurantsReservations       6972 non-null object\n",
      "RestaurantsTableService       2922 non-null object\n",
      "RestaurantsTakeOut            7324 non-null object\n",
      "Smoking                       371 non-null object\n",
      "WheelchairAccessible          1503 non-null object\n",
      "WiFi                          5799 non-null object\n",
      "dtypes: object(37)\n",
      "memory usage: 2.5+ MB\n"
     ]
    }
   ],
   "source": [
    "attributes_df.info()"
   ]
  },
  {
   "cell_type": "markdown",
   "metadata": {},
   "source": [
    " Most Common (more than 6000)- 'Alcohol', 'Ambience', 'BusinessParking', 'GoodForKids',  'HasTV', 'OutdoorSeating', 'RestaurantsAttire',  'RestaurantsDelivery', 'RestaurantsGoodForGroups', 'RestaurantsPriceRange2', 'RestaurantsReservations',\n",
    "        'RestaurantsTakeOut'"
   ]
  },
  {
   "cell_type": "code",
   "execution_count": 14,
   "metadata": {},
   "outputs": [],
   "source": [
    "# choosing attributes that look relevant\n",
    "attributes_lst = ['Alcohol', 'BusinessParking', 'GoodForKids', 'HasTV', 'OutdoorSeating','RestaurantsDelivery', 'RestaurantsGoodForGroups', 'RestaurantsPriceRange2', 'RestaurantsReservations', 'RestaurantsTakeOut']"
   ]
  },
  {
   "cell_type": "markdown",
   "metadata": {},
   "source": [
    "Finding possible values for relevant  attributes - "
   ]
  },
  {
   "cell_type": "code",
   "execution_count": 15,
   "metadata": {},
   "outputs": [
    {
     "name": "stdout",
     "output_type": "stream",
     "text": [
      "Alcohol u'full_bar'         2451\n",
      "u'none'             2147\n",
      "u'beer_and_wine'    715 \n",
      "'none'              463 \n",
      "'full_bar'          194 \n",
      "'beer_and_wine'     166 \n",
      "None                6   \n",
      "Name: Alcohol, dtype: int64\n",
      "BusinessParking {'garage': False, 'street': True, 'validated': False, 'lot': False, 'valet': False}     2884\n",
      "{'garage': False, 'street': False, 'validated': False, 'lot': False, 'valet': False}    2739\n",
      "{'garage': False, 'street': False, 'validated': False, 'lot': True, 'valet': False}     641 \n",
      "{'garage': False, 'street': True, 'validated': False, 'lot': True, 'valet': False}      215 \n",
      "{'garage': True, 'street': True, 'validated': False, 'lot': False, 'valet': False}      110 \n",
      "{'garage': True, 'street': False, 'validated': False, 'lot': False, 'valet': False}     95  \n",
      "None                                                                                    88  \n",
      "{'garage': True, 'street': True, 'validated': False, 'lot': True, 'valet': False}       32  \n",
      "{'garage': False, 'street': False, 'validated': False, 'lot': False, 'valet': True}     31  \n",
      "{'garage': True, 'street': False, 'validated': False, 'lot': True, 'valet': False}      20  \n",
      "{'garage': False, 'street': True, 'validated': True, 'lot': False, 'valet': False}      18  \n",
      "{'garage': False, 'street': True, 'validated': False, 'lot': False, 'valet': True}      17  \n",
      "{'garage': False, 'street': False, 'validated': True, 'lot': False, 'valet': False}     14  \n",
      "{'garage': None, 'street': None, 'validated': None, 'lot': False, 'valet': False}       13  \n",
      "{'garage': None, 'street': True, 'validated': False, 'lot': False, 'valet': False}      12  \n",
      "{'garage': None, 'street': True, 'validated': None, 'lot': False, 'valet': False}       12  \n",
      "{'garage': False, 'street': False, 'validated': False, 'lot': True, 'valet': True}      9   \n",
      "{'garage': True, 'street': True, 'validated': False, 'lot': False, 'valet': True}       7   \n",
      "{'garage': True, 'street': False, 'validated': False, 'lot': False, 'valet': True}      7   \n",
      "{'garage': None, 'street': None, 'validated': False, 'lot': False, 'valet': False}      6   \n",
      "{'garage': False, 'street': False, 'validated': True, 'lot': True, 'valet': False}      6   \n",
      "{'garage': False, 'street': True, 'validated': None, 'lot': False, 'valet': False}      5   \n",
      "{'garage': True, 'street': True, 'validated': True, 'lot': False, 'valet': False}       5   \n",
      "{'garage': False, 'street': True, 'validated': True, 'lot': True, 'valet': False}       5   \n",
      "{'garage': None, 'street': None, 'validated': None, 'lot': True, 'valet': False}        5   \n",
      "{'garage': True, 'street': False, 'validated': True, 'lot': False, 'valet': False}      4   \n",
      "{'garage': True, 'street': True, 'validated': False, 'lot': True, 'valet': True}        4   \n",
      "{'garage': True, 'street': False, 'validated': False, 'lot': True, 'valet': True}       4   \n",
      "{'garage': False, 'street': None, 'validated': False, 'lot': True, 'valet': False}      3   \n",
      "{'garage': None, 'street': True, 'validated': None, 'lot': None, 'valet': False}        3   \n",
      "{'garage': None, 'street': False, 'validated': None, 'lot': False, 'valet': False}      3   \n",
      "{'garage': False, 'street': True, 'validated': True, 'lot': False, 'valet': True}       2   \n",
      "{'garage': None, 'street': False, 'validated': False, 'lot': None, 'valet': False}      2   \n",
      "{'garage': False, 'street': None, 'validated': None, 'lot': False, 'valet': False}      2   \n",
      "{'garage': False, 'street': True, 'validated': False, 'lot': True, 'valet': True}       2   \n",
      "{'garage': False, 'street': None, 'validated': False, 'lot': False, 'valet': False}     2   \n",
      "{'garage': True, 'street': True, 'validated': True, 'lot': True, 'valet': False}        2   \n",
      "{'garage': False, 'street': None, 'validated': False, 'lot': None, 'valet': False}      2   \n",
      "{'garage': False, 'street': False, 'validated': None, 'lot': True, 'valet': False}      1   \n",
      "{'garage': False, 'street': False, 'validated': False, 'lot': None, 'valet': False}     1   \n",
      "{'garage': True, 'street': True, 'validated': None, 'lot': False, 'valet': False}       1   \n",
      "{'garage': True, 'street': None, 'validated': False, 'lot': False, 'valet': False}      1   \n",
      "{'garage': True, 'street': False, 'validated': None, 'lot': False, 'valet': False}      1   \n",
      "{'garage': None, 'street': None, 'validated': False, 'lot': None, 'valet': False}       1   \n",
      "{'garage': False, 'street': True, 'validated': True, 'lot': True, 'valet': True}        1   \n",
      "{'garage': False, 'street': None, 'validated': None, 'lot': True, 'valet': False}       1   \n",
      "{'garage': None, 'street': False, 'validated': False, 'lot': False, 'valet': False}     1   \n",
      "{'garage': True, 'street': True, 'validated': False, 'lot': None, 'valet': False}       1   \n",
      "{'garage': False, 'street': True, 'validated': False, 'lot': None, 'valet': False}      1   \n",
      "{'garage': True, 'street': None, 'validated': None, 'lot': None, 'valet': False}        1   \n",
      "{'garage': True, 'street': True, 'validated': None, 'lot': None, 'valet': False}        1   \n",
      "{}                                                                                      1   \n",
      "{'garage': True, 'street': True, 'validated': True, 'lot': True, 'valet': True}         1   \n",
      "{'garage': True, 'street': None, 'validated': None, 'lot': False, 'valet': False}       1   \n",
      "{'garage': True, 'street': False, 'validated': True, 'lot': False, 'valet': True}       1   \n",
      "{'garage': False, 'street': False, 'validated': True, 'lot': False, 'valet': True}      1   \n",
      "Name: BusinessParking, dtype: int64\n",
      "GoodForKids True     5146\n",
      "False    1580\n",
      "None     4   \n",
      "Name: GoodForKids, dtype: int64\n",
      "HasTV True     4273\n",
      "False    2342\n",
      "None     2   \n",
      "Name: HasTV, dtype: int64\n",
      "OutdoorSeating False    4267\n",
      "True     2562\n",
      "None     5   \n",
      "Name: OutdoorSeating, dtype: int64\n",
      "RestaurantsDelivery False    4404\n",
      "True     2344\n",
      "None     5   \n",
      "Name: RestaurantsDelivery, dtype: int64\n",
      "RestaurantsGoodForGroups True     5357\n",
      "False    1500\n",
      "None     6   \n",
      "Name: RestaurantsGoodForGroups, dtype: int64\n",
      "RestaurantsPriceRange2 2       4288\n",
      "1       2012\n",
      "3       600 \n",
      "4       93  \n",
      "None    9   \n",
      "Name: RestaurantsPriceRange2, dtype: int64\n",
      "RestaurantsReservations False    3492\n",
      "True     3446\n",
      "None     34  \n",
      "Name: RestaurantsReservations, dtype: int64\n",
      "RestaurantsTakeOut True     6726\n",
      "False    596 \n",
      "None     2   \n",
      "Name: RestaurantsTakeOut, dtype: int64\n"
     ]
    }
   ],
   "source": [
    "# each relevant attribute and its possible values\n",
    "for i in attributes_lst:\n",
    "    x = attributes_df[i].value_counts()\n",
    "    print(i,x)"
   ]
  },
  {
   "cell_type": "markdown",
   "metadata": {},
   "source": [
    "Selecting only records that have relevant attrbutes values -"
   ]
  },
  {
   "cell_type": "code",
   "execution_count": 22,
   "metadata": {},
   "outputs": [
    {
     "data": {
      "text/html": [
       "<div>\n",
       "<style scoped>\n",
       "    .dataframe tbody tr th:only-of-type {\n",
       "        vertical-align: middle;\n",
       "    }\n",
       "\n",
       "    .dataframe tbody tr th {\n",
       "        vertical-align: top;\n",
       "    }\n",
       "\n",
       "    .dataframe thead th {\n",
       "        text-align: right;\n",
       "    }\n",
       "</style>\n",
       "<table border=\"1\" class=\"dataframe\">\n",
       "  <thead>\n",
       "    <tr style=\"text-align: right;\">\n",
       "      <th></th>\n",
       "      <th>attributes</th>\n",
       "      <th>business_id</th>\n",
       "      <th>categories</th>\n",
       "      <th>is_open</th>\n",
       "      <th>name</th>\n",
       "      <th>review_count</th>\n",
       "      <th>stars</th>\n",
       "    </tr>\n",
       "  </thead>\n",
       "  <tbody>\n",
       "    <tr>\n",
       "      <th>0</th>\n",
       "      <td>{'RestaurantsPriceRange2': '2', 'RestaurantsAttire': 'u'casual'', 'Alcohol': 'u'none'', 'Caters': 'False', 'HasTV': 'False', 'GoodForKids': 'True', 'RestaurantsGoodForGroups': 'True', 'RestaurantsTakeOut': 'True', 'RestaurantsDelivery': 'False', 'RestaurantsReservations': 'False', 'BusinessParking': '{'garage': False, 'street': False, 'validated': False, 'lot': True, 'valet': False}', 'NoiseLevel': 'u'average'', 'WiFi': ''no'', 'Ambience': '{'romantic': False, 'intimate': False, 'classy': False, 'hipster': False, 'divey': False, 'touristy': False, 'trendy': False, 'upscale': False, 'casual': True}', 'OutdoorSeating': 'False'}</td>\n",
       "      <td>rVBPQdeayMYht4Uv_FOLHg</td>\n",
       "      <td>Restaurants, Burgers, Food</td>\n",
       "      <td>0.0</td>\n",
       "      <td>Gourmet Burger Company</td>\n",
       "      <td>13.0</td>\n",
       "      <td>3.0</td>\n",
       "    </tr>\n",
       "    <tr>\n",
       "      <th>1</th>\n",
       "      <td>{'RestaurantsTakeOut': 'True', 'Alcohol': 'u'beer_and_wine'', 'GoodForKids': 'True', 'RestaurantsPriceRange2': '1', 'RestaurantsAttire': 'u'casual'', 'RestaurantsDelivery': 'False', 'Ambience': '{'romantic': False, 'intimate': False, 'classy': False, 'hipster': False, 'divey': False, 'touristy': False, 'trendy': False, 'upscale': False, 'casual': True}', 'BusinessParking': '{'garage': False, 'street': True, 'validated': False, 'lot': False, 'valet': False}', 'RestaurantsGoodForGroups': 'True', 'RestaurantsReservations': 'False', 'OutdoorSeating': 'False', 'NoiseLevel': 'u'average'', 'GoodForMeal': '{'dessert': False, 'latenight': False, 'lunch': True, 'dinner': True, 'brunch': False, 'breakfast': False}', 'WiFi': 'u'no'', 'BikeParking': 'True', 'RestaurantsTableService': 'True', 'HasTV': 'True', 'Caters': 'False'}</td>\n",
       "      <td>0QjROMVW9ACKjhSEfHqNCQ</td>\n",
       "      <td>Vietnamese, Restaurants</td>\n",
       "      <td>1.0</td>\n",
       "      <td>Mi Mi Restaurant</td>\n",
       "      <td>116.0</td>\n",
       "      <td>4.0</td>\n",
       "    </tr>\n",
       "  </tbody>\n",
       "</table>\n",
       "</div>"
      ],
      "text/plain": [
       "                                                                                                                                                                                                                                                                                                                                                                                                                                                                                                                                                                                                                                                                                                                                                                                                                                                  attributes  \\\n",
       "0  {'RestaurantsPriceRange2': '2', 'RestaurantsAttire': 'u'casual'', 'Alcohol': 'u'none'', 'Caters': 'False', 'HasTV': 'False', 'GoodForKids': 'True', 'RestaurantsGoodForGroups': 'True', 'RestaurantsTakeOut': 'True', 'RestaurantsDelivery': 'False', 'RestaurantsReservations': 'False', 'BusinessParking': '{'garage': False, 'street': False, 'validated': False, 'lot': True, 'valet': False}', 'NoiseLevel': 'u'average'', 'WiFi': ''no'', 'Ambience': '{'romantic': False, 'intimate': False, 'classy': False, 'hipster': False, 'divey': False, 'touristy': False, 'trendy': False, 'upscale': False, 'casual': True}', 'OutdoorSeating': 'False'}                                                                                                                                                                                                   \n",
       "1  {'RestaurantsTakeOut': 'True', 'Alcohol': 'u'beer_and_wine'', 'GoodForKids': 'True', 'RestaurantsPriceRange2': '1', 'RestaurantsAttire': 'u'casual'', 'RestaurantsDelivery': 'False', 'Ambience': '{'romantic': False, 'intimate': False, 'classy': False, 'hipster': False, 'divey': False, 'touristy': False, 'trendy': False, 'upscale': False, 'casual': True}', 'BusinessParking': '{'garage': False, 'street': True, 'validated': False, 'lot': False, 'valet': False}', 'RestaurantsGoodForGroups': 'True', 'RestaurantsReservations': 'False', 'OutdoorSeating': 'False', 'NoiseLevel': 'u'average'', 'GoodForMeal': '{'dessert': False, 'latenight': False, 'lunch': True, 'dinner': True, 'brunch': False, 'breakfast': False}', 'WiFi': 'u'no'', 'BikeParking': 'True', 'RestaurantsTableService': 'True', 'HasTV': 'True', 'Caters': 'False'}   \n",
       "\n",
       "              business_id                  categories  is_open  \\\n",
       "0  rVBPQdeayMYht4Uv_FOLHg  Restaurants, Burgers, Food  0.0       \n",
       "1  0QjROMVW9ACKjhSEfHqNCQ  Vietnamese, Restaurants     1.0       \n",
       "\n",
       "                     name  review_count  stars  \n",
       "0  Gourmet Burger Company  13.0          3.0    \n",
       "1  Mi Mi Restaurant        116.0         4.0    "
      ]
     },
     "execution_count": 22,
     "metadata": {},
     "output_type": "execute_result"
    }
   ],
   "source": [
    "res_attr = pd.DataFrame()\n",
    "\n",
    "# for each record in toronto restaurants\n",
    "for i in range(0,len(tor_restaurants)):\n",
    "    # splitting attributes\n",
    "    atr = [i.split(':', 1)[0] for i in tor_restaurants['attributes'][i]]\n",
    "    # checking attributes in our attribute list(most occurring)\n",
    "    avlbl = [i for i in atr if i in attributes_lst]\n",
    "    # if all mentioned attributes available\n",
    "    if len(avlbl) == len (attributes_lst):\n",
    "            # adding those records in new data frame\n",
    "            res_attr = res_attr.append(tor_restaurants.loc[i])\n",
    "\n",
    "res_attr.head(2)"
   ]
  },
  {
   "cell_type": "code",
   "execution_count": 24,
   "metadata": {
    "scrolled": true
   },
   "outputs": [
    {
     "name": "stdout",
     "output_type": "stream",
     "text": [
      "<class 'pandas.core.frame.DataFrame'>\n",
      "RangeIndex: 4683 entries, 0 to 4682\n",
      "Data columns (total 7 columns):\n",
      "attributes      4683 non-null object\n",
      "business_id     4683 non-null object\n",
      "categories      4683 non-null object\n",
      "is_open         4683 non-null float64\n",
      "name            4683 non-null object\n",
      "review_count    4683 non-null float64\n",
      "stars           4683 non-null float64\n",
      "dtypes: float64(3), object(4)\n",
      "memory usage: 256.2+ KB\n"
     ]
    }
   ],
   "source": [
    "res_attr = res_attr.reset_index(drop=True)\n",
    "res_attr.info()"
   ]
  },
  {
   "cell_type": "markdown",
   "metadata": {},
   "source": [
    "Creating Dataframe with relevant attribute columns with 0s -"
   ]
  },
  {
   "cell_type": "code",
   "execution_count": 43,
   "metadata": {},
   "outputs": [],
   "source": [
    "attrColumnsDf = pd.DataFrame(0, index=np.arange(len(res_attr)), columns=attributes_lst)"
   ]
  },
  {
   "cell_type": "code",
   "execution_count": 44,
   "metadata": {
    "scrolled": true
   },
   "outputs": [
    {
     "data": {
      "text/html": [
       "<div>\n",
       "<style scoped>\n",
       "    .dataframe tbody tr th:only-of-type {\n",
       "        vertical-align: middle;\n",
       "    }\n",
       "\n",
       "    .dataframe tbody tr th {\n",
       "        vertical-align: top;\n",
       "    }\n",
       "\n",
       "    .dataframe thead th {\n",
       "        text-align: right;\n",
       "    }\n",
       "</style>\n",
       "<table border=\"1\" class=\"dataframe\">\n",
       "  <thead>\n",
       "    <tr style=\"text-align: right;\">\n",
       "      <th></th>\n",
       "      <th>Alcohol</th>\n",
       "      <th>BusinessParking</th>\n",
       "      <th>GoodForKids</th>\n",
       "      <th>HasTV</th>\n",
       "      <th>OutdoorSeating</th>\n",
       "      <th>RestaurantsDelivery</th>\n",
       "      <th>RestaurantsGoodForGroups</th>\n",
       "      <th>RestaurantsPriceRange2</th>\n",
       "      <th>RestaurantsReservations</th>\n",
       "      <th>RestaurantsTakeOut</th>\n",
       "    </tr>\n",
       "  </thead>\n",
       "  <tbody>\n",
       "    <tr>\n",
       "      <th>0</th>\n",
       "      <td>0</td>\n",
       "      <td>0</td>\n",
       "      <td>0</td>\n",
       "      <td>0</td>\n",
       "      <td>0</td>\n",
       "      <td>0</td>\n",
       "      <td>0</td>\n",
       "      <td>0</td>\n",
       "      <td>0</td>\n",
       "      <td>0</td>\n",
       "    </tr>\n",
       "    <tr>\n",
       "      <th>1</th>\n",
       "      <td>0</td>\n",
       "      <td>0</td>\n",
       "      <td>0</td>\n",
       "      <td>0</td>\n",
       "      <td>0</td>\n",
       "      <td>0</td>\n",
       "      <td>0</td>\n",
       "      <td>0</td>\n",
       "      <td>0</td>\n",
       "      <td>0</td>\n",
       "    </tr>\n",
       "    <tr>\n",
       "      <th>2</th>\n",
       "      <td>0</td>\n",
       "      <td>0</td>\n",
       "      <td>0</td>\n",
       "      <td>0</td>\n",
       "      <td>0</td>\n",
       "      <td>0</td>\n",
       "      <td>0</td>\n",
       "      <td>0</td>\n",
       "      <td>0</td>\n",
       "      <td>0</td>\n",
       "    </tr>\n",
       "    <tr>\n",
       "      <th>3</th>\n",
       "      <td>0</td>\n",
       "      <td>0</td>\n",
       "      <td>0</td>\n",
       "      <td>0</td>\n",
       "      <td>0</td>\n",
       "      <td>0</td>\n",
       "      <td>0</td>\n",
       "      <td>0</td>\n",
       "      <td>0</td>\n",
       "      <td>0</td>\n",
       "    </tr>\n",
       "    <tr>\n",
       "      <th>4</th>\n",
       "      <td>0</td>\n",
       "      <td>0</td>\n",
       "      <td>0</td>\n",
       "      <td>0</td>\n",
       "      <td>0</td>\n",
       "      <td>0</td>\n",
       "      <td>0</td>\n",
       "      <td>0</td>\n",
       "      <td>0</td>\n",
       "      <td>0</td>\n",
       "    </tr>\n",
       "  </tbody>\n",
       "</table>\n",
       "</div>"
      ],
      "text/plain": [
       "   Alcohol  BusinessParking  GoodForKids  HasTV  OutdoorSeating  \\\n",
       "0  0        0                0            0      0                \n",
       "1  0        0                0            0      0                \n",
       "2  0        0                0            0      0                \n",
       "3  0        0                0            0      0                \n",
       "4  0        0                0            0      0                \n",
       "\n",
       "   RestaurantsDelivery  RestaurantsGoodForGroups  RestaurantsPriceRange2  \\\n",
       "0  0                    0                         0                        \n",
       "1  0                    0                         0                        \n",
       "2  0                    0                         0                        \n",
       "3  0                    0                         0                        \n",
       "4  0                    0                         0                        \n",
       "\n",
       "   RestaurantsReservations  RestaurantsTakeOut  \n",
       "0  0                        0                   \n",
       "1  0                        0                   \n",
       "2  0                        0                   \n",
       "3  0                        0                   \n",
       "4  0                        0                   "
      ]
     },
     "execution_count": 44,
     "metadata": {},
     "output_type": "execute_result"
    }
   ],
   "source": [
    "attrColumnsDf.head()"
   ]
  },
  {
   "cell_type": "markdown",
   "metadata": {},
   "source": [
    "Updating values in relevant attribute dataframe based on values present in Toronto restaurants data -"
   ]
  },
  {
   "cell_type": "code",
   "execution_count": 45,
   "metadata": {},
   "outputs": [],
   "source": [
    "for i in range(0,len(res_attr)):\n",
    "    atr = [ [key,value] for key, value in res_attr['attributes'][i].items()]\n",
    "    \n",
    "    # Alcohol\n",
    "    if (['Alcohol', 'none'] not in atr) or (['Alcohol', \"u'none'\"] not in atr):\n",
    "        attrColumnsDf.at[i,'Alcohol']=1\n",
    "        \n",
    "    # BusinessParking\n",
    "    parking = 'garage: False, street: False'\n",
    "    for park in atr:\n",
    "        if park[0] == 'BusinessParking':\n",
    "            park = park[1].replace('\\'', \"\")\n",
    "            if parking in park:\n",
    "                attrColumnsDf.at[i,'BusinessParking']=1\n",
    "    \n",
    "    # Good for kids\n",
    "    if ['GoodForKids', 'True'] in atr:\n",
    "        attrColumnsDf.at[i,'GoodForKids']=1\n",
    "    \n",
    "    # Has TV\n",
    "    if ['HasTV', 'True'] in atr:\n",
    "        attrColumnsDf.at[i,'HasTV']=1\n",
    "      \n",
    "    # Outdoor seating\n",
    "    if ['OutdoorSeating', 'True'] in atr:\n",
    "        attrColumnsDf.at[i,'OutdoorSeating']=1\n",
    "    #RestaurantsDelivery    \n",
    "    if ['RestaurantsDelivery', 'True'] in atr:\n",
    "        attrColumnsDf.at[i,'RestaurantsDelivery']=1\n",
    "    #RestaurantsGoodForGroups\n",
    "    if ['RestaurantsGoodForGroups', 'True'] in atr:\n",
    "        attrColumnsDf.at[i,'RestaurantsGoodForGroups']=1\n",
    "        \n",
    "    # Price Range\n",
    "    if ['RestaurantsPriceRange2', '1'] in atr:\n",
    "        attrColumnsDf.at[i,'RestaurantsPriceRange2']=1\n",
    "    if ['RestaurantsPriceRange2', '2'] in atr:\n",
    "        attrColumnsDf.at[i,'RestaurantsPriceRange2']=2\n",
    "    if ['RestaurantsPriceRange2', '3'] in atr:\n",
    "        attrColumnsDf.at[i,'RestaurantsPriceRange2']=3\n",
    "    if ['RestaurantsPriceRange2', '4'] in atr:\n",
    "        attrColumnsDf.at[i,'RestaurantsPriceRange2']=4\n",
    "    \n",
    "    # Reservations\n",
    "    if ['RestaurantsReservations', 'True'] in atr:\n",
    "        attrColumnsDf.at[i,'RestaurantsReservations']=1\n",
    "        \n",
    "    #  RestaurantsTakeOut          \n",
    "    if ['RestaurantsTakeOut', 'True'] in atr:\n",
    "        attrColumnsDf.at[i,'RestaurantsTakeOut']=1"
   ]
  },
  {
   "cell_type": "code",
   "execution_count": 46,
   "metadata": {},
   "outputs": [
    {
     "data": {
      "text/html": [
       "<div>\n",
       "<style scoped>\n",
       "    .dataframe tbody tr th:only-of-type {\n",
       "        vertical-align: middle;\n",
       "    }\n",
       "\n",
       "    .dataframe tbody tr th {\n",
       "        vertical-align: top;\n",
       "    }\n",
       "\n",
       "    .dataframe thead th {\n",
       "        text-align: right;\n",
       "    }\n",
       "</style>\n",
       "<table border=\"1\" class=\"dataframe\">\n",
       "  <thead>\n",
       "    <tr style=\"text-align: right;\">\n",
       "      <th></th>\n",
       "      <th>attributes</th>\n",
       "      <th>business_id</th>\n",
       "      <th>categories</th>\n",
       "      <th>is_open</th>\n",
       "      <th>name</th>\n",
       "      <th>review_count</th>\n",
       "      <th>stars</th>\n",
       "      <th>Alcohol</th>\n",
       "      <th>BusinessParking</th>\n",
       "      <th>GoodForKids</th>\n",
       "      <th>HasTV</th>\n",
       "      <th>OutdoorSeating</th>\n",
       "      <th>RestaurantsDelivery</th>\n",
       "      <th>RestaurantsGoodForGroups</th>\n",
       "      <th>RestaurantsPriceRange2</th>\n",
       "      <th>RestaurantsReservations</th>\n",
       "      <th>RestaurantsTakeOut</th>\n",
       "    </tr>\n",
       "  </thead>\n",
       "  <tbody>\n",
       "    <tr>\n",
       "      <th>0</th>\n",
       "      <td>{'RestaurantsPriceRange2': '2', 'RestaurantsAttire': 'u'casual'', 'Alcohol': 'u'none'', 'Caters': 'False', 'HasTV': 'False', 'GoodForKids': 'True', 'RestaurantsGoodForGroups': 'True', 'RestaurantsTakeOut': 'True', 'RestaurantsDelivery': 'False', 'RestaurantsReservations': 'False', 'BusinessParking': '{'garage': False, 'street': False, 'validated': False, 'lot': True, 'valet': False}', 'NoiseLevel': 'u'average'', 'WiFi': ''no'', 'Ambience': '{'romantic': False, 'intimate': False, 'classy': False, 'hipster': False, 'divey': False, 'touristy': False, 'trendy': False, 'upscale': False, 'casual': True}', 'OutdoorSeating': 'False'}</td>\n",
       "      <td>rVBPQdeayMYht4Uv_FOLHg</td>\n",
       "      <td>Restaurants, Burgers, Food</td>\n",
       "      <td>0</td>\n",
       "      <td>Gourmet Burger Company</td>\n",
       "      <td>13</td>\n",
       "      <td>3.0</td>\n",
       "      <td>1</td>\n",
       "      <td>1</td>\n",
       "      <td>1</td>\n",
       "      <td>0</td>\n",
       "      <td>0</td>\n",
       "      <td>0</td>\n",
       "      <td>1</td>\n",
       "      <td>2</td>\n",
       "      <td>0</td>\n",
       "      <td>1</td>\n",
       "    </tr>\n",
       "    <tr>\n",
       "      <th>1</th>\n",
       "      <td>{'RestaurantsTakeOut': 'True', 'Alcohol': 'u'beer_and_wine'', 'GoodForKids': 'True', 'RestaurantsPriceRange2': '1', 'RestaurantsAttire': 'u'casual'', 'RestaurantsDelivery': 'False', 'Ambience': '{'romantic': False, 'intimate': False, 'classy': False, 'hipster': False, 'divey': False, 'touristy': False, 'trendy': False, 'upscale': False, 'casual': True}', 'BusinessParking': '{'garage': False, 'street': True, 'validated': False, 'lot': False, 'valet': False}', 'RestaurantsGoodForGroups': 'True', 'RestaurantsReservations': 'False', 'OutdoorSeating': 'False', 'NoiseLevel': 'u'average'', 'GoodForMeal': '{'dessert': False, 'latenight': False, 'lunch': True, 'dinner': True, 'brunch': False, 'breakfast': False}', 'WiFi': 'u'no'', 'BikeParking': 'True', 'RestaurantsTableService': 'True', 'HasTV': 'True', 'Caters': 'False'}</td>\n",
       "      <td>0QjROMVW9ACKjhSEfHqNCQ</td>\n",
       "      <td>Vietnamese, Restaurants</td>\n",
       "      <td>1</td>\n",
       "      <td>Mi Mi Restaurant</td>\n",
       "      <td>116</td>\n",
       "      <td>4.0</td>\n",
       "      <td>1</td>\n",
       "      <td>0</td>\n",
       "      <td>1</td>\n",
       "      <td>1</td>\n",
       "      <td>0</td>\n",
       "      <td>0</td>\n",
       "      <td>1</td>\n",
       "      <td>1</td>\n",
       "      <td>0</td>\n",
       "      <td>1</td>\n",
       "    </tr>\n",
       "    <tr>\n",
       "      <th>2</th>\n",
       "      <td>{'OutdoorSeating': 'False', 'RestaurantsDelivery': 'False', 'RestaurantsTakeOut': 'True', 'HasTV': 'True', 'GoodForKids': 'True', 'RestaurantsGoodForGroups': 'True', 'RestaurantsAttire': ''casual'', 'RestaurantsReservations': 'False', 'BikeParking': 'False', 'Ambience': '{'touristy': False, 'hipster': False, 'romantic': False, 'intimate': False, 'trendy': False, 'upscale': False, 'classy': False, 'casual': False}', 'RestaurantsPriceRange2': '1', 'WiFi': ''no'', 'Alcohol': ''none'', 'BusinessParking': '{'garage': False, 'street': False, 'validated': False, 'lot': False, 'valet': False}'}</td>\n",
       "      <td>8k62wYhDVq1-652YbJi5eg</td>\n",
       "      <td>Bagels, Donuts, Food, Cafes, Coffee &amp; Tea, Restaurants, Bakeries</td>\n",
       "      <td>1</td>\n",
       "      <td>Tim Hortons</td>\n",
       "      <td>8</td>\n",
       "      <td>3.0</td>\n",
       "      <td>1</td>\n",
       "      <td>1</td>\n",
       "      <td>1</td>\n",
       "      <td>1</td>\n",
       "      <td>0</td>\n",
       "      <td>0</td>\n",
       "      <td>1</td>\n",
       "      <td>1</td>\n",
       "      <td>0</td>\n",
       "      <td>1</td>\n",
       "    </tr>\n",
       "  </tbody>\n",
       "</table>\n",
       "</div>"
      ],
      "text/plain": [
       "                                                                                                                                                                                                                                                                                                                                                                                                                                                                                                                                                                                                                                                                                                                                                                                                                                                  attributes  \\\n",
       "0  {'RestaurantsPriceRange2': '2', 'RestaurantsAttire': 'u'casual'', 'Alcohol': 'u'none'', 'Caters': 'False', 'HasTV': 'False', 'GoodForKids': 'True', 'RestaurantsGoodForGroups': 'True', 'RestaurantsTakeOut': 'True', 'RestaurantsDelivery': 'False', 'RestaurantsReservations': 'False', 'BusinessParking': '{'garage': False, 'street': False, 'validated': False, 'lot': True, 'valet': False}', 'NoiseLevel': 'u'average'', 'WiFi': ''no'', 'Ambience': '{'romantic': False, 'intimate': False, 'classy': False, 'hipster': False, 'divey': False, 'touristy': False, 'trendy': False, 'upscale': False, 'casual': True}', 'OutdoorSeating': 'False'}                                                                                                                                                                                                   \n",
       "1  {'RestaurantsTakeOut': 'True', 'Alcohol': 'u'beer_and_wine'', 'GoodForKids': 'True', 'RestaurantsPriceRange2': '1', 'RestaurantsAttire': 'u'casual'', 'RestaurantsDelivery': 'False', 'Ambience': '{'romantic': False, 'intimate': False, 'classy': False, 'hipster': False, 'divey': False, 'touristy': False, 'trendy': False, 'upscale': False, 'casual': True}', 'BusinessParking': '{'garage': False, 'street': True, 'validated': False, 'lot': False, 'valet': False}', 'RestaurantsGoodForGroups': 'True', 'RestaurantsReservations': 'False', 'OutdoorSeating': 'False', 'NoiseLevel': 'u'average'', 'GoodForMeal': '{'dessert': False, 'latenight': False, 'lunch': True, 'dinner': True, 'brunch': False, 'breakfast': False}', 'WiFi': 'u'no'', 'BikeParking': 'True', 'RestaurantsTableService': 'True', 'HasTV': 'True', 'Caters': 'False'}   \n",
       "2  {'OutdoorSeating': 'False', 'RestaurantsDelivery': 'False', 'RestaurantsTakeOut': 'True', 'HasTV': 'True', 'GoodForKids': 'True', 'RestaurantsGoodForGroups': 'True', 'RestaurantsAttire': ''casual'', 'RestaurantsReservations': 'False', 'BikeParking': 'False', 'Ambience': '{'touristy': False, 'hipster': False, 'romantic': False, 'intimate': False, 'trendy': False, 'upscale': False, 'classy': False, 'casual': False}', 'RestaurantsPriceRange2': '1', 'WiFi': ''no'', 'Alcohol': ''none'', 'BusinessParking': '{'garage': False, 'street': False, 'validated': False, 'lot': False, 'valet': False}'}                                                                                                                                                                                                                                           \n",
       "\n",
       "              business_id  \\\n",
       "0  rVBPQdeayMYht4Uv_FOLHg   \n",
       "1  0QjROMVW9ACKjhSEfHqNCQ   \n",
       "2  8k62wYhDVq1-652YbJi5eg   \n",
       "\n",
       "                                                         categories  is_open  \\\n",
       "0  Restaurants, Burgers, Food                                        0         \n",
       "1  Vietnamese, Restaurants                                           1         \n",
       "2  Bagels, Donuts, Food, Cafes, Coffee & Tea, Restaurants, Bakeries  1         \n",
       "\n",
       "                     name  review_count  stars  Alcohol  BusinessParking  \\\n",
       "0  Gourmet Burger Company  13            3.0    1        1                 \n",
       "1  Mi Mi Restaurant        116           4.0    1        0                 \n",
       "2  Tim Hortons             8             3.0    1        1                 \n",
       "\n",
       "   GoodForKids  HasTV  OutdoorSeating  RestaurantsDelivery  \\\n",
       "0  1            0      0               0                     \n",
       "1  1            1      0               0                     \n",
       "2  1            1      0               0                     \n",
       "\n",
       "   RestaurantsGoodForGroups  RestaurantsPriceRange2  RestaurantsReservations  \\\n",
       "0  1                         2                       0                         \n",
       "1  1                         1                       0                         \n",
       "2  1                         1                       0                         \n",
       "\n",
       "   RestaurantsTakeOut  \n",
       "0  1                   \n",
       "1  1                   \n",
       "2  1                   "
      ]
     },
     "execution_count": 46,
     "metadata": {},
     "output_type": "execute_result"
    }
   ],
   "source": [
    "# concatenating two dataframes\n",
    "final_df = pd.concat([tor_restaurants, attrColumnsDf], axis=1, join='inner')\n",
    "final_df.head(3)"
   ]
  },
  {
   "cell_type": "code",
   "execution_count": 47,
   "metadata": {},
   "outputs": [
    {
     "name": "stdout",
     "output_type": "stream",
     "text": [
      "<class 'pandas.core.frame.DataFrame'>\n",
      "Int64Index: 4683 entries, 0 to 4682\n",
      "Data columns (total 17 columns):\n",
      "attributes                  4683 non-null object\n",
      "business_id                 4683 non-null object\n",
      "categories                  4683 non-null object\n",
      "is_open                     4683 non-null int64\n",
      "name                        4683 non-null object\n",
      "review_count                4683 non-null int64\n",
      "stars                       4683 non-null float64\n",
      "Alcohol                     4683 non-null int64\n",
      "BusinessParking             4683 non-null int64\n",
      "GoodForKids                 4683 non-null int64\n",
      "HasTV                       4683 non-null int64\n",
      "OutdoorSeating              4683 non-null int64\n",
      "RestaurantsDelivery         4683 non-null int64\n",
      "RestaurantsGoodForGroups    4683 non-null int64\n",
      "RestaurantsPriceRange2      4683 non-null int64\n",
      "RestaurantsReservations     4683 non-null int64\n",
      "RestaurantsTakeOut          4683 non-null int64\n",
      "dtypes: float64(1), int64(12), object(4)\n",
      "memory usage: 658.5+ KB\n"
     ]
    }
   ],
   "source": [
    "final_df.info()"
   ]
  },
  {
   "cell_type": "markdown",
   "metadata": {},
   "source": [
    "# Data Exploration: Exploring the Yelp Dataset\n",
    "\n",
    "**(1) Finding the most popular business categories:** \n",
    "* print the top 10 most popular business categories in the dataset and their counts (i.e., how many business objects in each category). Here we say a category is \"popular\" if there are many business objects in this category (such as 'restaurants')."
   ]
  },
  {
   "cell_type": "code",
   "execution_count": 30,
   "metadata": {},
   "outputs": [],
   "source": [
    "# joining all categories present in the column of data\n",
    "all_categories = ','.join(business_df['categories'])\n",
    "# getting list of categories by splitting combined strings with ','\n",
    "cat_list = all_categories.split(',')\n",
    "# removing extra spaces from categories\n",
    "formatted_cat = [cat.strip() for cat in cat_list]\n",
    "# creating dataframe in order to count the occurrence of categories in data\n",
    "cat_column = pd.DataFrame(formatted_cat,columns=['Category'])"
   ]
  },
  {
   "cell_type": "code",
   "execution_count": 31,
   "metadata": {},
   "outputs": [
    {
     "data": {
      "text/plain": [
       "Restaurants         63944\n",
       "Shopping            34644\n",
       "Food                32991\n",
       "Home Services       22487\n",
       "Beauty & Spas       20520\n",
       "Health & Medical    19227\n",
       "Local Services      15783\n",
       "Automotive          14720\n",
       "Nightlife           14211\n",
       "Bars                12400\n",
       "Name: Category, dtype: int64"
      ]
     },
     "execution_count": 31,
     "metadata": {},
     "output_type": "execute_result"
    }
   ],
   "source": [
    "# top 10 categories by sorting the number of counts available for each category\n",
    "cat_column['Category'].value_counts(sort=True,ascending=False)[0:10]"
   ]
  },
  {
   "cell_type": "markdown",
   "metadata": {},
   "source": [
    "**(2) Find the most popular business objects** \n",
    "* print the top 10 most popular business objects in the dataset and their counts (i.e., how many checkins in total for each business object).  Here we say a business object is \"popular\" if the business object attracts a large number of checkins from the users."
   ]
  },
  {
   "cell_type": "code",
   "execution_count": 32,
   "metadata": {},
   "outputs": [],
   "source": [
    "# adding new column consisting total count of number of checking for each business object\n",
    "checkins_df['total'] = [len(item.split(',')) for item in checkins_df['date'] ]"
   ]
  },
  {
   "cell_type": "code",
   "execution_count": 33,
   "metadata": {},
   "outputs": [
    {
     "data": {
      "text/html": [
       "<div>\n",
       "<style scoped>\n",
       "    .dataframe tbody tr th:only-of-type {\n",
       "        vertical-align: middle;\n",
       "    }\n",
       "\n",
       "    .dataframe tbody tr th {\n",
       "        vertical-align: top;\n",
       "    }\n",
       "\n",
       "    .dataframe thead th {\n",
       "        text-align: right;\n",
       "    }\n",
       "</style>\n",
       "<table border=\"1\" class=\"dataframe\">\n",
       "  <thead>\n",
       "    <tr style=\"text-align: right;\">\n",
       "      <th></th>\n",
       "      <th>business_id</th>\n",
       "      <th>total</th>\n",
       "    </tr>\n",
       "  </thead>\n",
       "  <tbody>\n",
       "    <tr>\n",
       "      <th>45595</th>\n",
       "      <td>FaHADZARwnY4yvlvpnsfGA</td>\n",
       "      <td>151671</td>\n",
       "    </tr>\n",
       "    <tr>\n",
       "      <th>57044</th>\n",
       "      <td>JmI9nslLD7KZqRr__Bg6NQ</td>\n",
       "      <td>129355</td>\n",
       "    </tr>\n",
       "    <tr>\n",
       "      <th>170858</th>\n",
       "      <td>yQab5dxZzgBLTEHCw9V7_w</td>\n",
       "      <td>59306</td>\n",
       "    </tr>\n",
       "    <tr>\n",
       "      <th>17280</th>\n",
       "      <td>5LNZ67Yw9RD6nf4_UhXOjw</td>\n",
       "      <td>48606</td>\n",
       "    </tr>\n",
       "    <tr>\n",
       "      <th>77422</th>\n",
       "      <td>RESDUcs7fIiihp38-d6_6g</td>\n",
       "      <td>45313</td>\n",
       "    </tr>\n",
       "    <tr>\n",
       "      <th>53697</th>\n",
       "      <td>IZivKqtHyz4-ts8KsnvMrA</td>\n",
       "      <td>42818</td>\n",
       "    </tr>\n",
       "    <tr>\n",
       "      <th>125329</th>\n",
       "      <td>hihud--QRriCYZw1zZvW4g</td>\n",
       "      <td>35979</td>\n",
       "    </tr>\n",
       "    <tr>\n",
       "      <th>80463</th>\n",
       "      <td>SMPbvZLSMMb7KU76YNYMGg</td>\n",
       "      <td>35863</td>\n",
       "    </tr>\n",
       "    <tr>\n",
       "      <th>93048</th>\n",
       "      <td>Wxxvi3LZbHNIDwJ-ZimtnA</td>\n",
       "      <td>34080</td>\n",
       "    </tr>\n",
       "    <tr>\n",
       "      <th>141364</th>\n",
       "      <td>na4Th5DrNauOv-c43QQFvA</td>\n",
       "      <td>33031</td>\n",
       "    </tr>\n",
       "  </tbody>\n",
       "</table>\n",
       "</div>"
      ],
      "text/plain": [
       "                   business_id   total\n",
       "45595   FaHADZARwnY4yvlvpnsfGA  151671\n",
       "57044   JmI9nslLD7KZqRr__Bg6NQ  129355\n",
       "170858  yQab5dxZzgBLTEHCw9V7_w  59306 \n",
       "17280   5LNZ67Yw9RD6nf4_UhXOjw  48606 \n",
       "77422   RESDUcs7fIiihp38-d6_6g  45313 \n",
       "53697   IZivKqtHyz4-ts8KsnvMrA  42818 \n",
       "125329  hihud--QRriCYZw1zZvW4g  35979 \n",
       "80463   SMPbvZLSMMb7KU76YNYMGg  35863 \n",
       "93048   Wxxvi3LZbHNIDwJ-ZimtnA  34080 \n",
       "141364  na4Th5DrNauOv-c43QQFvA  33031 "
      ]
     },
     "execution_count": 33,
     "metadata": {},
     "output_type": "execute_result"
    }
   ],
   "source": [
    "# sorting total in descending order to get business objects with maximum checkins\n",
    "top_business = checkins_df.sort_values(by='total',ascending=False)[:10]\n",
    "top_business[['business_id','total']]"
   ]
  },
  {
   "cell_type": "code",
   "execution_count": 34,
   "metadata": {},
   "outputs": [
    {
     "data": {
      "text/html": [
       "<div>\n",
       "<style scoped>\n",
       "    .dataframe tbody tr th:only-of-type {\n",
       "        vertical-align: middle;\n",
       "    }\n",
       "\n",
       "    .dataframe tbody tr th {\n",
       "        vertical-align: top;\n",
       "    }\n",
       "\n",
       "    .dataframe thead th {\n",
       "        text-align: right;\n",
       "    }\n",
       "</style>\n",
       "<table border=\"1\" class=\"dataframe\">\n",
       "  <thead>\n",
       "    <tr style=\"text-align: right;\">\n",
       "      <th></th>\n",
       "      <th>business_id</th>\n",
       "      <th>total</th>\n",
       "      <th>name</th>\n",
       "      <th>city</th>\n",
       "    </tr>\n",
       "  </thead>\n",
       "  <tbody>\n",
       "    <tr>\n",
       "      <th>0</th>\n",
       "      <td>FaHADZARwnY4yvlvpnsfGA</td>\n",
       "      <td>151671</td>\n",
       "      <td>McCarran International Airport</td>\n",
       "      <td>Las Vegas</td>\n",
       "    </tr>\n",
       "    <tr>\n",
       "      <th>1</th>\n",
       "      <td>JmI9nslLD7KZqRr__Bg6NQ</td>\n",
       "      <td>129355</td>\n",
       "      <td>Phoenix Sky Harbor International Airport</td>\n",
       "      <td>Phoenix</td>\n",
       "    </tr>\n",
       "    <tr>\n",
       "      <th>2</th>\n",
       "      <td>yQab5dxZzgBLTEHCw9V7_w</td>\n",
       "      <td>59306</td>\n",
       "      <td>Charlotte Douglas International Airport</td>\n",
       "      <td>Charlotte</td>\n",
       "    </tr>\n",
       "    <tr>\n",
       "      <th>3</th>\n",
       "      <td>5LNZ67Yw9RD6nf4_UhXOjw</td>\n",
       "      <td>48606</td>\n",
       "      <td>The Cosmopolitan of Las Vegas</td>\n",
       "      <td>Las Vegas</td>\n",
       "    </tr>\n",
       "    <tr>\n",
       "      <th>4</th>\n",
       "      <td>RESDUcs7fIiihp38-d6_6g</td>\n",
       "      <td>45313</td>\n",
       "      <td>Bacchanal Buffet</td>\n",
       "      <td>Las Vegas</td>\n",
       "    </tr>\n",
       "    <tr>\n",
       "      <th>5</th>\n",
       "      <td>IZivKqtHyz4-ts8KsnvMrA</td>\n",
       "      <td>42818</td>\n",
       "      <td>Kung Fu Tea</td>\n",
       "      <td>Las Vegas</td>\n",
       "    </tr>\n",
       "    <tr>\n",
       "      <th>6</th>\n",
       "      <td>hihud--QRriCYZw1zZvW4g</td>\n",
       "      <td>35979</td>\n",
       "      <td>Gangnam Asian BBQ Dining</td>\n",
       "      <td>Las Vegas</td>\n",
       "    </tr>\n",
       "    <tr>\n",
       "      <th>7</th>\n",
       "      <td>SMPbvZLSMMb7KU76YNYMGg</td>\n",
       "      <td>35863</td>\n",
       "      <td>ARIA Resort &amp; Casino</td>\n",
       "      <td>Las Vegas</td>\n",
       "    </tr>\n",
       "    <tr>\n",
       "      <th>8</th>\n",
       "      <td>Wxxvi3LZbHNIDwJ-ZimtnA</td>\n",
       "      <td>34080</td>\n",
       "      <td>The Venetian Las Vegas</td>\n",
       "      <td>Las Vegas</td>\n",
       "    </tr>\n",
       "    <tr>\n",
       "      <th>9</th>\n",
       "      <td>na4Th5DrNauOv-c43QQFvA</td>\n",
       "      <td>33031</td>\n",
       "      <td>Bellagio Hotel</td>\n",
       "      <td>Las Vegas</td>\n",
       "    </tr>\n",
       "  </tbody>\n",
       "</table>\n",
       "</div>"
      ],
      "text/plain": [
       "              business_id   total                                      name  \\\n",
       "0  FaHADZARwnY4yvlvpnsfGA  151671  McCarran International Airport             \n",
       "1  JmI9nslLD7KZqRr__Bg6NQ  129355  Phoenix Sky Harbor International Airport   \n",
       "2  yQab5dxZzgBLTEHCw9V7_w  59306   Charlotte Douglas International Airport    \n",
       "3  5LNZ67Yw9RD6nf4_UhXOjw  48606   The Cosmopolitan of Las Vegas              \n",
       "4  RESDUcs7fIiihp38-d6_6g  45313   Bacchanal Buffet                           \n",
       "5  IZivKqtHyz4-ts8KsnvMrA  42818   Kung Fu Tea                                \n",
       "6  hihud--QRriCYZw1zZvW4g  35979   Gangnam Asian BBQ Dining                   \n",
       "7  SMPbvZLSMMb7KU76YNYMGg  35863   ARIA Resort & Casino                       \n",
       "8  Wxxvi3LZbHNIDwJ-ZimtnA  34080   The Venetian Las Vegas                     \n",
       "9  na4Th5DrNauOv-c43QQFvA  33031   Bellagio Hotel                             \n",
       "\n",
       "        city  \n",
       "0  Las Vegas  \n",
       "1  Phoenix    \n",
       "2  Charlotte  \n",
       "3  Las Vegas  \n",
       "4  Las Vegas  \n",
       "5  Las Vegas  \n",
       "6  Las Vegas  \n",
       "7  Las Vegas  \n",
       "8  Las Vegas  \n",
       "9  Las Vegas  "
      ]
     },
     "execution_count": 34,
     "metadata": {},
     "output_type": "execute_result"
    }
   ],
   "source": [
    "# printing top 10 popular business obejects\n",
    "top_business[['business_id','total']].merge(business_df[['business_id','name','city']], on='business_id')"
   ]
  },
  {
   "cell_type": "markdown",
   "metadata": {},
   "source": [
    "Joining checkins count with final df -"
   ]
  },
  {
   "cell_type": "code",
   "execution_count": 48,
   "metadata": {},
   "outputs": [],
   "source": [
    "final_df = final_df.merge(checkins_df[['business_id','total']],on='business_id')"
   ]
  },
  {
   "cell_type": "code",
   "execution_count": 49,
   "metadata": {},
   "outputs": [],
   "source": [
    "final_df = final_df.drop('attributes',axis=1)"
   ]
  },
  {
   "cell_type": "code",
   "execution_count": 50,
   "metadata": {
    "scrolled": false
   },
   "outputs": [
    {
     "data": {
      "text/html": [
       "<div>\n",
       "<style scoped>\n",
       "    .dataframe tbody tr th:only-of-type {\n",
       "        vertical-align: middle;\n",
       "    }\n",
       "\n",
       "    .dataframe tbody tr th {\n",
       "        vertical-align: top;\n",
       "    }\n",
       "\n",
       "    .dataframe thead th {\n",
       "        text-align: right;\n",
       "    }\n",
       "</style>\n",
       "<table border=\"1\" class=\"dataframe\">\n",
       "  <thead>\n",
       "    <tr style=\"text-align: right;\">\n",
       "      <th></th>\n",
       "      <th>business_id</th>\n",
       "      <th>categories</th>\n",
       "      <th>is_open</th>\n",
       "      <th>name</th>\n",
       "      <th>review_count</th>\n",
       "      <th>stars</th>\n",
       "      <th>Alcohol</th>\n",
       "      <th>BusinessParking</th>\n",
       "      <th>GoodForKids</th>\n",
       "      <th>HasTV</th>\n",
       "      <th>OutdoorSeating</th>\n",
       "      <th>RestaurantsDelivery</th>\n",
       "      <th>RestaurantsGoodForGroups</th>\n",
       "      <th>RestaurantsPriceRange2</th>\n",
       "      <th>RestaurantsReservations</th>\n",
       "      <th>RestaurantsTakeOut</th>\n",
       "      <th>total</th>\n",
       "    </tr>\n",
       "  </thead>\n",
       "  <tbody>\n",
       "    <tr>\n",
       "      <th>0</th>\n",
       "      <td>rVBPQdeayMYht4Uv_FOLHg</td>\n",
       "      <td>Restaurants, Burgers, Food</td>\n",
       "      <td>0</td>\n",
       "      <td>Gourmet Burger Company</td>\n",
       "      <td>13</td>\n",
       "      <td>3.0</td>\n",
       "      <td>1</td>\n",
       "      <td>1</td>\n",
       "      <td>1</td>\n",
       "      <td>0</td>\n",
       "      <td>0</td>\n",
       "      <td>0</td>\n",
       "      <td>1</td>\n",
       "      <td>2</td>\n",
       "      <td>0</td>\n",
       "      <td>1</td>\n",
       "      <td>16</td>\n",
       "    </tr>\n",
       "    <tr>\n",
       "      <th>1</th>\n",
       "      <td>0QjROMVW9ACKjhSEfHqNCQ</td>\n",
       "      <td>Vietnamese, Restaurants</td>\n",
       "      <td>1</td>\n",
       "      <td>Mi Mi Restaurant</td>\n",
       "      <td>116</td>\n",
       "      <td>4.0</td>\n",
       "      <td>1</td>\n",
       "      <td>0</td>\n",
       "      <td>1</td>\n",
       "      <td>1</td>\n",
       "      <td>0</td>\n",
       "      <td>0</td>\n",
       "      <td>1</td>\n",
       "      <td>1</td>\n",
       "      <td>0</td>\n",
       "      <td>1</td>\n",
       "      <td>201</td>\n",
       "    </tr>\n",
       "    <tr>\n",
       "      <th>2</th>\n",
       "      <td>8k62wYhDVq1-652YbJi5eg</td>\n",
       "      <td>Bagels, Donuts, Food, Cafes, Coffee &amp; Tea, Restaurants, Bakeries</td>\n",
       "      <td>1</td>\n",
       "      <td>Tim Hortons</td>\n",
       "      <td>8</td>\n",
       "      <td>3.0</td>\n",
       "      <td>1</td>\n",
       "      <td>1</td>\n",
       "      <td>1</td>\n",
       "      <td>1</td>\n",
       "      <td>0</td>\n",
       "      <td>0</td>\n",
       "      <td>1</td>\n",
       "      <td>1</td>\n",
       "      <td>0</td>\n",
       "      <td>1</td>\n",
       "      <td>96</td>\n",
       "    </tr>\n",
       "    <tr>\n",
       "      <th>3</th>\n",
       "      <td>0DnQh8SE8BSnvJltGCCiWg</td>\n",
       "      <td>Fast Food, Restaurants, Chicken Shop</td>\n",
       "      <td>1</td>\n",
       "      <td>Chick-N-Joy</td>\n",
       "      <td>11</td>\n",
       "      <td>3.0</td>\n",
       "      <td>1</td>\n",
       "      <td>1</td>\n",
       "      <td>1</td>\n",
       "      <td>1</td>\n",
       "      <td>1</td>\n",
       "      <td>1</td>\n",
       "      <td>1</td>\n",
       "      <td>2</td>\n",
       "      <td>0</td>\n",
       "      <td>1</td>\n",
       "      <td>14</td>\n",
       "    </tr>\n",
       "    <tr>\n",
       "      <th>4</th>\n",
       "      <td>NLaK58WvlNQdUunSIkt-jA</td>\n",
       "      <td>Coffee &amp; Tea, Restaurants, Sandwiches, Food</td>\n",
       "      <td>1</td>\n",
       "      <td>Zav Coffee Shop &amp; Gallery</td>\n",
       "      <td>24</td>\n",
       "      <td>4.5</td>\n",
       "      <td>1</td>\n",
       "      <td>1</td>\n",
       "      <td>1</td>\n",
       "      <td>1</td>\n",
       "      <td>0</td>\n",
       "      <td>0</td>\n",
       "      <td>1</td>\n",
       "      <td>3</td>\n",
       "      <td>1</td>\n",
       "      <td>1</td>\n",
       "      <td>21</td>\n",
       "    </tr>\n",
       "  </tbody>\n",
       "</table>\n",
       "</div>"
      ],
      "text/plain": [
       "              business_id  \\\n",
       "0  rVBPQdeayMYht4Uv_FOLHg   \n",
       "1  0QjROMVW9ACKjhSEfHqNCQ   \n",
       "2  8k62wYhDVq1-652YbJi5eg   \n",
       "3  0DnQh8SE8BSnvJltGCCiWg   \n",
       "4  NLaK58WvlNQdUunSIkt-jA   \n",
       "\n",
       "                                                         categories  is_open  \\\n",
       "0  Restaurants, Burgers, Food                                        0         \n",
       "1  Vietnamese, Restaurants                                           1         \n",
       "2  Bagels, Donuts, Food, Cafes, Coffee & Tea, Restaurants, Bakeries  1         \n",
       "3  Fast Food, Restaurants, Chicken Shop                              1         \n",
       "4  Coffee & Tea, Restaurants, Sandwiches, Food                       1         \n",
       "\n",
       "                        name  review_count  stars  Alcohol  BusinessParking  \\\n",
       "0  Gourmet Burger Company     13            3.0    1        1                 \n",
       "1  Mi Mi Restaurant           116           4.0    1        0                 \n",
       "2  Tim Hortons                8             3.0    1        1                 \n",
       "3  Chick-N-Joy                11            3.0    1        1                 \n",
       "4  Zav Coffee Shop & Gallery  24            4.5    1        1                 \n",
       "\n",
       "   GoodForKids  HasTV  OutdoorSeating  RestaurantsDelivery  \\\n",
       "0  1            0      0               0                     \n",
       "1  1            1      0               0                     \n",
       "2  1            1      0               0                     \n",
       "3  1            1      1               1                     \n",
       "4  1            1      0               0                     \n",
       "\n",
       "   RestaurantsGoodForGroups  RestaurantsPriceRange2  RestaurantsReservations  \\\n",
       "0  1                         2                       0                         \n",
       "1  1                         1                       0                         \n",
       "2  1                         1                       0                         \n",
       "3  1                         2                       0                         \n",
       "4  1                         3                       1                         \n",
       "\n",
       "   RestaurantsTakeOut  total  \n",
       "0  1                   16     \n",
       "1  1                   201    \n",
       "2  1                   96     \n",
       "3  1                   14     \n",
       "4  1                   21     "
      ]
     },
     "execution_count": 50,
     "metadata": {},
     "output_type": "execute_result"
    }
   ],
   "source": [
    "final_df.head()\n",
    "#final_df.info()"
   ]
  },
  {
   "cell_type": "markdown",
   "metadata": {},
   "source": [
    "Distribution of star ratings of data"
   ]
  },
  {
   "cell_type": "code",
   "execution_count": 62,
   "metadata": {},
   "outputs": [
    {
     "data": {
      "image/png": "[encoded data removed]",
      "text/plain": [
       "<Figure size 432x288 with 1 Axes>"
      ]
     },
     "metadata": {
      "needs_background": "light"
     },
     "output_type": "display_data"
    }
   ],
   "source": [
    "final_df['stars'].plot.hist()\n",
    "plt.xlabel(\"Number of Stars\")\n",
    "plt.ylabel(\"Count\")\n",
    "plt.show()"
   ]
  },
  {
   "cell_type": "markdown",
   "metadata": {},
   "source": [
    "Relation of ratings with total count of checkins in the restaurant-"
   ]
  },
  {
   "cell_type": "code",
   "execution_count": 51,
   "metadata": {},
   "outputs": [
    {
     "data": {
      "text/plain": [
       "<matplotlib.axes._subplots.AxesSubplot at 0x1741766b748>"
      ]
     },
     "execution_count": 51,
     "metadata": {},
     "output_type": "execute_result"
    },
    {
     "data": {
      "image/png": "[encoded data removed]",
      "text/plain": [
       "<Figure size 432x288 with 1 Axes>"
      ]
     },
     "metadata": {
      "needs_background": "light"
     },
     "output_type": "display_data"
    }
   ],
   "source": [
    "sns.scatterplot(x='stars',y='total',data=final_df)"
   ]
  },
  {
   "cell_type": "markdown",
   "metadata": {},
   "source": [
    "Relation of ratings with count of reviews in the restaurant-"
   ]
  },
  {
   "cell_type": "code",
   "execution_count": 39,
   "metadata": {},
   "outputs": [
    {
     "data": {
      "text/plain": [
       "<matplotlib.axes._subplots.AxesSubplot at 0x17417470550>"
      ]
     },
     "execution_count": 39,
     "metadata": {},
     "output_type": "execute_result"
    },
    {
     "data": {
      "image/png": "[encoded data removed]",
      "text/plain": [
       "<Figure size 432x288 with 1 Axes>"
      ]
     },
     "metadata": {
      "needs_background": "light"
     },
     "output_type": "display_data"
    }
   ],
   "source": [
    "sns.scatterplot(x='stars',y='review_count',data=final_df)"
   ]
  },
  {
   "cell_type": "code",
   "execution_count": 58,
   "metadata": {},
   "outputs": [
    {
     "data": {
      "text/plain": [
       "<matplotlib.axes._subplots.AxesSubplot at 0x17417cf3358>"
      ]
     },
     "execution_count": 58,
     "metadata": {},
     "output_type": "execute_result"
    },
    {
     "data": {
      "image/png": "[encoded data removed]",
      "text/plain": [
       "<Figure size 864x576 with 2 Axes>"
      ]
     },
     "metadata": {
      "needs_background": "light"
     },
     "output_type": "display_data"
    }
   ],
   "source": [
    "fig, axarr = plt.subplots(2, 1, figsize=(12, 8))\n",
    "sns.boxplot(x='RestaurantsPriceRange2',y='stars',data=final_df, ax=axarr[0])\n",
    "sns.boxplot(x='RestaurantsTakeOut',y='stars',data=final_df, ax=axarr[1])"
   ]
  },
  {
   "cell_type": "code",
   "execution_count": 59,
   "metadata": {},
   "outputs": [
    {
     "data": {
      "text/plain": [
       "<matplotlib.axes._subplots.AxesSubplot at 0x17417df80f0>"
      ]
     },
     "execution_count": 59,
     "metadata": {},
     "output_type": "execute_result"
    },
    {
     "data": {
      "image/png": "[encoded data removed]",
      "text/plain": [
       "<Figure size 864x576 with 2 Axes>"
      ]
     },
     "metadata": {
      "needs_background": "light"
     },
     "output_type": "display_data"
    }
   ],
   "source": [
    "fig, axarr = plt.subplots(2, 1, figsize=(12, 8))\n",
    "sns.boxplot(x='HasTV',y='stars',data=final_df, ax=axarr[0])\n",
    "sns.boxplot(x='GoodForKids',y='stars',data=final_df, ax=axarr[1])"
   ]
  },
  {
   "cell_type": "code",
   "execution_count": 64,
   "metadata": {},
   "outputs": [
    {
     "data": {
      "text/plain": [
       "<matplotlib.axes._subplots.AxesSubplot at 0x17417fa35c0>"
      ]
     },
     "execution_count": 64,
     "metadata": {},
     "output_type": "execute_result"
    },
    {
     "data": {
      "image/png": "[encoded data removed]",
      "text/plain": [
       "<Figure size 864x576 with 2 Axes>"
      ]
     },
     "metadata": {
      "needs_background": "light"
     },
     "output_type": "display_data"
    }
   ],
   "source": [
    "fig, axarr = plt.subplots(2, 1, figsize=(12, 8))\n",
    "sns.boxplot(x='BusinessParking',y='stars',data=final_df, ax=axarr[0])\n",
    "sns.boxplot(x='RestaurantsGoodForGroups',y='stars',data=final_df, ax=axarr[1])"
   ]
  },
  {
   "cell_type": "markdown",
   "metadata": {},
   "source": [
    "# The Solution: implement a data science solution to the problem you are trying to solve."
   ]
  },
  {
   "cell_type": "markdown",
   "metadata": {},
   "source": [
    "Briefly describe the idea of your solution to the problem in the following cell:"
   ]
  },
  {
   "cell_type": "markdown",
   "metadata": {
    "collapsed": true
   },
   "source": [
    "By analyzing different features available in the data, we found review_count and no. of checkins to be related to star ratings of restaurants."
   ]
  },
  {
   "cell_type": "markdown",
   "metadata": {},
   "source": [
    "Write codes to implement the solution in python:"
   ]
  },
  {
   "cell_type": "code",
   "execution_count": 65,
   "metadata": {},
   "outputs": [],
   "source": [
    "from sklearn.model_selection import train_test_split\n",
    "\n",
    "train, test = train_test_split(final_df, test_size=0.2)"
   ]
  },
  {
   "cell_type": "code",
   "execution_count": 66,
   "metadata": {},
   "outputs": [
    {
     "name": "stdout",
     "output_type": "stream",
     "text": [
      "(3628, 17)\n",
      "(907, 17)\n"
     ]
    }
   ],
   "source": [
    "print(train.shape)\n",
    "print(test.shape)"
   ]
  },
  {
   "cell_type": "code",
   "execution_count": 68,
   "metadata": {},
   "outputs": [],
   "source": [
    "from sklearn.linear_model import LinearRegression\n",
    "\n",
    "X = train[['total','review_count']]\n",
    "y = train['stars']\n",
    "lm = LinearRegression()\n",
    "model = lm.fit(X, y)"
   ]
  },
  {
   "cell_type": "code",
   "execution_count": 78,
   "metadata": {},
   "outputs": [
    {
     "data": {
      "text/plain": [
       "array([-0.00021114,  0.00162298])"
      ]
     },
     "execution_count": 78,
     "metadata": {},
     "output_type": "execute_result"
    }
   ],
   "source": [
    "model.coef_"
   ]
  },
  {
   "cell_type": "code",
   "execution_count": 71,
   "metadata": {},
   "outputs": [],
   "source": [
    "test_X = test[['total','review_count']]\n",
    "test_y = test['stars']\n",
    "y_pred = model.predict(test_X)"
   ]
  },
  {
   "cell_type": "markdown",
   "metadata": {},
   "source": [
    "# Results: summarize and visualize the results discovered from the analysis\n",
    "\n",
    "Please use figures, tables, or videos to communicate the results with the audience.\n"
   ]
  },
  {
   "cell_type": "code",
   "execution_count": 83,
   "metadata": {},
   "outputs": [
    {
     "name": "stdout",
     "output_type": "stream",
     "text": [
      "Mean Absolute Error: 0.5852516428543365\n",
      "Mean Squared Error: 0.5784853796765896\n",
      "Root Mean Squared Error: 0.7605822635827039\n"
     ]
    }
   ],
   "source": [
    "from sklearn import metrics\n",
    "print('Mean Absolute Error:', metrics.mean_absolute_error(test_y, y_pred))\n",
    "print('Mean Squared Error:', metrics.mean_squared_error(test_y, y_pred))\n",
    "print('Root Mean Squared Error:', np.sqrt(metrics.mean_squared_error(test_y, y_pred)))\n"
   ]
  },
  {
   "cell_type": "code",
   "execution_count": 91,
   "metadata": {},
   "outputs": [
    {
     "data": {
      "image/png": "[encoded data removed]",
      "text/plain": [
       "<Figure size 864x576 with 1 Axes>"
      ]
     },
     "metadata": {
      "needs_background": "light"
     },
     "output_type": "display_data"
    }
   ],
   "source": [
    "from mpl_toolkits.mplot3d import Axes3D\n",
    "fig = plt.figure(figsize=(12, 8))\n",
    "ax = fig.add_subplot(111, projection='3d')\n",
    "\n",
    "x1 = test_X['total']\n",
    "x2 = test_X['review_count']\n",
    "ax.scatter3D(x1, x2, test_y, c = 'green');\n",
    "ax.scatter3D(x1, x2, y_pred, c='blue');\n",
    "\n",
    "\n",
    "plt.show()"
   ]
  },
  {
   "cell_type": "markdown",
   "metadata": {},
   "source": [
    "\n",
    "# Done\n",
    "\n",
    "All set! \n",
    "\n",
    "**What do you need to submit?**\n",
    "\n",
    "* **Notebook File**: Save this Jupyter notebook, and find the notebook file in your folder (for example, \"filename.ipynb\"). This is the file you need to submit. Please make sure all the plotted tables and figures are in the notebook. If you used \"jupyter notebook --pylab=inline\" to open the notebook, all the figures and tables should have shown up in the notebook.\n",
    "\n",
    "* **PPT Slides**: please prepare PPT slides (for 10 minutes' talk) to present about the case study . Each team present their case studies in class for 7 minutes.\n",
    "\n",
    "Please compress all the files in a zipped file.\n",
    "\n",
    "\n",
    "**How to submit:**\n",
    "\n",
    "        Please submit through Canvas, in the Assignment \"Case Study 1\".\n",
    "        \n",
    "**Note: Each team only needs to submit one submission in Canvas**"
   ]
  },
  {
   "cell_type": "markdown",
   "metadata": {},
   "source": [
    "\n",
    "# Peer-Review Grading Template:\n",
    "\n",
    "**Total Points: (100 points)** \n",
    "\n",
    "Please add an \"**X**\" mark in front of your rating: \n",
    "\n",
    "For example:\n",
    "\n",
    "*2: bad*\n",
    "          \n",
    "**X** *3: good*\n",
    "    \n",
    "*4: perfect*\n",
    "\n",
    "\n",
    "    ---------------------------------\n",
    "    The Problem: \n",
    "    ---------------------------------\n",
    "    \n",
    "    1. (10 points) how well did the team describe the problem they are trying to solve using the data? \n",
    "       0: not clear\n",
    "       2: I can barely understand the problem\n",
    "       4: okay, can be improved\n",
    "       6: good, but can be improved\n",
    "       8: very good\n",
    "       10: crystal clear\n",
    "    \n",
    "    2. (10 points) do you think the problem is important or has a potential impact?\n",
    "        0: not important at all\n",
    "        2: not sure if it is important\n",
    "        4: seems important, but not clear\n",
    "        6: interesting problem\n",
    "        8: an important problem, which I want to know the answer myself\n",
    "       10: very important, I would be happy invest money on a project like this.\n",
    "    \n",
    "    ----------------------------------\n",
    "    Data Collection and Processing:\n",
    "    ----------------------------------\n",
    "    \n",
    "    3. (10 points) Do you think the data collected/processed are relevant and sufficient for solving the above problem? \n",
    "       0: not clear\n",
    "       2: I can barely understand what data they are trying to collect/process\n",
    "       4: I can barely understand why the data is relevant to the problem\n",
    "       6: the data are relevant to the problem, but better data can be collected\n",
    "       8: the data collected are relevant and at a proper scale\n",
    "      10: the data are properly collected and they are sufficient\n",
    "\n",
    "    -----------------------------------\n",
    "    Data Exploration:\n",
    "    -----------------------------------\n",
    "    4. How well did the team solve the following task:\n",
    "    \n",
    "    (1) Finding the most popular business categories (5 points):\n",
    "       0: missing answer\n",
    "       1: okay, but with major problems\n",
    "       3: good, but with minor problems\n",
    "       5: perfect\n",
    "    \n",
    "    (2) Find the most popular business objects (5 points)\n",
    "       0: missing answer\n",
    "       1: okay, but with major problems\n",
    "       3: good, but with minor problems\n",
    "       5: perfect\n",
    "    \n",
    "    -----------------------------------\n",
    "    The Solution\n",
    "    -----------------------------------\n",
    "    5.  how well did the team describe the solution they used to solve the problem? (10 points)\n",
    "       0: not clear\n",
    "       2: I can barely understand\n",
    "       4: okay, can be improved\n",
    "       6: good, but can be improved\n",
    "       8: very good\n",
    "       10: crystal clear\n",
    "       \n",
    "    6. how well is the solution in solving the problem? (10 points)\n",
    "       0: not relevant\n",
    "       2: barely relevant to the problem\n",
    "       4: okay solution, but there is an easier solution.\n",
    "       6: good, but can be improved\n",
    "       8: very good, but solution is simple/old\n",
    "       10: innovative and technically sound\n",
    "       \n",
    "    7. how well did the team implement the solution in python? (10 points)\n",
    "       0: the code is not relevant to the solution proposed\n",
    "       2: the code is barely understandable, but not relevant\n",
    "       4: okay, the code is clear but incorrect\n",
    "       6: good, the code is correct, but with major errors\n",
    "       8: very good, the code is correct, but with minor errors\n",
    "      10: perfect \n",
    "   \n",
    "    -----------------------------------\n",
    "    The Results\n",
    "    -----------------------------------\n",
    "     8.  How well did the team present the results they found in the data? (10 points)\n",
    "       0: not clear\n",
    "       2: I can barely understand\n",
    "       4: okay, can be improved\n",
    "       6: good, but can be improved\n",
    "       8: very good\n",
    "      10: crystal clear\n",
    "       \n",
    "     9.  How do you think of the results they found in the data?  (5 points)\n",
    "       0: not clear\n",
    "       1: likely to be wrong\n",
    "       2: okay, maybe wrong\n",
    "       3: good, but can be improved\n",
    "       4: make sense, but not interesting\n",
    "       5: make sense and very interesting\n",
    "     \n",
    "    -----------------------------------\n",
    "    The Presentation\n",
    "    -----------------------------------\n",
    "    10. How all the different parts (data, problem, solution, result) fit together as a coherent story?  \n",
    "       0: they are irrelevant\n",
    "       1: I can barely understand how they are related to each other\n",
    "       2: okay, the problem is good, but the solution doesn't match well, or the problem is not solvable.\n",
    "       3: good, but the results don't make much sense in the context\n",
    "       4: very good fit, but not exciting (the storyline can be improved/polished)\n",
    "       5: a perfect story\n",
    "      \n",
    "    11. Did the presenter make good use of the 10 minutes for presentation?  \n",
    "       0: the team didn't present\n",
    "       1: bad, barely finished a small part of the talk\n",
    "       2: okay, barely finished most parts of the talk.\n",
    "       3: good, finished all parts of the talk, but some part is rushed\n",
    "       4: very good, but the allocation of time on different parts can be improved.\n",
    "       5: perfect timing and good use of time      \n",
    "\n",
    "    12. How well do you think of the presentation (overall quality)?  \n",
    "       0: the team didn't present\n",
    "       1: bad\n",
    "       2: okay\n",
    "       3: good\n",
    "       4: very good\n",
    "       5: perfect\n",
    "\n",
    "\n",
    "    -----------------------------------\n",
    "    Overall: \n",
    "    -----------------------------------\n",
    "    13. How many points out of the 100 do you give to this project in total?  Please don't worry about the absolute scores, we will rescale the final grading according to the performance of all teams in the class.\n",
    "    Total score:\n",
    "    \n",
    "    14. What are the strengths of this project? Briefly, list up to 3 strengths.\n",
    "       1: \n",
    "       2:\n",
    "       3:\n",
    "    \n",
    "    15. What are the weaknesses of this project? Briefly, list up to 3 weaknesses.\n",
    "       1:\n",
    "       2:\n",
    "       3:\n",
    "    \n",
    "    16. Detailed comments and suggestions. What suggestions do you have for this project to improve its quality further.\n",
    "    \n",
    "    \n",
    "\n",
    "        \n",
    "\n",
    "\n"
   ]
  },
  {
   "cell_type": "code",
   "execution_count": null,
   "metadata": {},
   "outputs": [],
   "source": []
  }
 ],
 "metadata": {
  "kernelspec": {
   "display_name": "Python 3",
   "language": "python",
   "name": "python3"
  },
  "language_info": {
   "codemirror_mode": {
    "name": "ipython",
    "version": 3
   },
   "file_extension": ".py",
   "mimetype": "text/x-python",
   "name": "python",
   "nbconvert_exporter": "python",
   "pygments_lexer": "ipython3",
   "version": "3.7.1"
  }
 },
 "nbformat": 4,
 "nbformat_minor": 1
}
